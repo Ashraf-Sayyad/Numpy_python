{
  "nbformat": 4,
  "nbformat_minor": 0,
  "metadata": {
    "colab": {
      "provenance": []
    },
    "kernelspec": {
      "name": "python3",
      "display_name": "Python 3"
    },
    "language_info": {
      "name": "python"
    }
  },
  "cells": [
    {
      "cell_type": "markdown",
      "source": [
        "# Numpy_Part_2"
      ],
      "metadata": {
        "id": "2U9VGdBFfqYU"
      }
    },
    {
      "cell_type": "code",
      "execution_count": null,
      "metadata": {
        "id": "1890f2f5-6c16-4566-96a3-380acb9259e6"
      },
      "outputs": [],
      "source": [
        "#Numpy - Array Manipulation."
      ]
    },
    {
      "cell_type": "code",
      "execution_count": null,
      "metadata": {
        "id": "dba4df9f-2c20-4ce4-a433-ef64cad090d0"
      },
      "outputs": [],
      "source": [
        "import numpy as np"
      ]
    },
    {
      "cell_type": "code",
      "execution_count": null,
      "metadata": {
        "id": "5632259c-dc2a-4f2a-9b61-7f383ea33a1b"
      },
      "outputs": [],
      "source": [
        "arr = np.random.randint(1,10 , (3,4))"
      ]
    },
    {
      "cell_type": "code",
      "execution_count": null,
      "metadata": {
        "id": "eee2bbe4-55eb-41ec-9fad-e56bc005a6b3",
        "outputId": "8f786599-a5f2-457e-beba-d2209af519ed",
        "colab": {
          "base_uri": "https://localhost:8080/"
        }
      },
      "outputs": [
        {
          "output_type": "execute_result",
          "data": {
            "text/plain": [
              "array([[8, 8, 6, 8],\n",
              "       [4, 2, 8, 2],\n",
              "       [3, 4, 5, 7]])"
            ]
          },
          "metadata": {},
          "execution_count": 4
        }
      ],
      "source": [
        "arr"
      ]
    },
    {
      "cell_type": "code",
      "execution_count": null,
      "metadata": {
        "id": "d55d33e1-985f-4070-97d2-8eacf70b2ff8",
        "outputId": "d8f7e649-d2a8-4d18-d54e-64f027283b30",
        "colab": {
          "base_uri": "https://localhost:8080/"
        }
      },
      "outputs": [
        {
          "output_type": "execute_result",
          "data": {
            "text/plain": [
              "array([[8, 8],\n",
              "       [6, 8],\n",
              "       [4, 2],\n",
              "       [8, 2],\n",
              "       [3, 4],\n",
              "       [5, 7]])"
            ]
          },
          "metadata": {},
          "execution_count": 5
        }
      ],
      "source": [
        "arr.reshape(6,2)"
      ]
    },
    {
      "cell_type": "code",
      "execution_count": null,
      "metadata": {
        "id": "09cb23cc-8b83-467b-827d-dfbfa8b634c3",
        "outputId": "4d6db3c2-b6c9-49f3-aef3-436133c71efc",
        "colab": {
          "base_uri": "https://localhost:8080/"
        }
      },
      "outputs": [
        {
          "output_type": "execute_result",
          "data": {
            "text/plain": [
              "array([[8, 8, 6, 8, 4, 2],\n",
              "       [8, 2, 3, 4, 5, 7]])"
            ]
          },
          "metadata": {},
          "execution_count": 6
        }
      ],
      "source": [
        "arr.reshape(2,6)"
      ]
    },
    {
      "cell_type": "code",
      "execution_count": null,
      "metadata": {
        "id": "77eac4b6-d3c2-4a93-8c2f-bb711417539b",
        "outputId": "7db2c078-8a2b-4a84-93cb-5a451b4b4d30",
        "colab": {
          "base_uri": "https://localhost:8080/"
        }
      },
      "outputs": [
        {
          "output_type": "execute_result",
          "data": {
            "text/plain": [
              "array([[8, 8, 6, 8, 4, 2],\n",
              "       [8, 2, 3, 4, 5, 7]])"
            ]
          },
          "metadata": {},
          "execution_count": 7
        }
      ],
      "source": [
        "arr.reshape(2,-242342)"
      ]
    },
    {
      "cell_type": "code",
      "execution_count": null,
      "metadata": {
        "id": "43be7e8d-cc68-4191-baad-4bf94af48189",
        "outputId": "46ce1492-8ce1-4dbc-8fc7-624b9fb26cc6",
        "colab": {
          "base_uri": "https://localhost:8080/"
        }
      },
      "outputs": [
        {
          "output_type": "execute_result",
          "data": {
            "text/plain": [
              "array([[8, 4, 3],\n",
              "       [8, 2, 4],\n",
              "       [6, 8, 5],\n",
              "       [8, 2, 7]])"
            ]
          },
          "metadata": {},
          "execution_count": 10
        }
      ],
      "source": [
        "arr.T"
      ]
    },
    {
      "cell_type": "code",
      "execution_count": null,
      "metadata": {
        "id": "9c1b0a47-41c2-4f36-8750-9603ba7a3a15",
        "outputId": "201b207b-dc5d-46e2-91c0-3b0dcf457ffd",
        "colab": {
          "base_uri": "https://localhost:8080/"
        }
      },
      "outputs": [
        {
          "output_type": "execute_result",
          "data": {
            "text/plain": [
              "array([[8, 8, 6, 8],\n",
              "       [4, 2, 8, 2],\n",
              "       [3, 4, 5, 7]])"
            ]
          },
          "metadata": {},
          "execution_count": 11
        }
      ],
      "source": [
        "arr"
      ]
    },
    {
      "cell_type": "code",
      "execution_count": null,
      "metadata": {
        "id": "2fd29656-e8be-431a-af9c-7dbaf4e39571",
        "outputId": "3dd7c03f-4a0f-4da3-efae-1cea7be49498",
        "colab": {
          "base_uri": "https://localhost:8080/"
        }
      },
      "outputs": [
        {
          "output_type": "execute_result",
          "data": {
            "text/plain": [
              "array([8, 8, 6, 8, 4, 2, 8, 2, 3, 4, 5, 7])"
            ]
          },
          "metadata": {},
          "execution_count": 12
        }
      ],
      "source": [
        "arr.flatten()"
      ]
    },
    {
      "cell_type": "code",
      "execution_count": null,
      "metadata": {
        "id": "6f7862fc-ec30-47dc-bce8-b5101301205c"
      },
      "outputs": [],
      "source": [
        "arr1 = np.array([1,2,3,3,4])"
      ]
    },
    {
      "cell_type": "code",
      "source": [
        "arr1"
      ],
      "metadata": {
        "colab": {
          "base_uri": "https://localhost:8080/"
        },
        "id": "4RcoPVIrhk0r",
        "outputId": "69efc75c-e4d4-4438-8ab9-86d287502862"
      },
      "execution_count": null,
      "outputs": [
        {
          "output_type": "execute_result",
          "data": {
            "text/plain": [
              "array([1, 2, 3, 3, 4])"
            ]
          },
          "metadata": {},
          "execution_count": 18
        }
      ]
    },
    {
      "cell_type": "code",
      "execution_count": null,
      "metadata": {
        "id": "15357b1f-eff7-4453-89e8-3948f925c481",
        "outputId": "03287aa2-5400-42fe-9866-d2b825ced5cc",
        "colab": {
          "base_uri": "https://localhost:8080/"
        }
      },
      "outputs": [
        {
          "output_type": "execute_result",
          "data": {
            "text/plain": [
              "1"
            ]
          },
          "metadata": {},
          "execution_count": 14
        }
      ],
      "source": [
        "arr1.ndim"
      ]
    },
    {
      "cell_type": "code",
      "execution_count": null,
      "metadata": {
        "id": "828fbacd-05dd-4ec7-9a9f-be474c13eff5",
        "outputId": "9bb58cfb-6cb3-44e6-e2b6-2c40b36d42e9",
        "colab": {
          "base_uri": "https://localhost:8080/"
        }
      },
      "outputs": [
        {
          "output_type": "execute_result",
          "data": {
            "text/plain": [
              "array([[1],\n",
              "       [2],\n",
              "       [3],\n",
              "       [3],\n",
              "       [4]])"
            ]
          },
          "metadata": {},
          "execution_count": 16
        }
      ],
      "source": [
        "np.expand_dims(arr1 ,axis=1) # expanded dimension from 1 to 2 column"
      ]
    },
    {
      "cell_type": "code",
      "execution_count": null,
      "metadata": {
        "id": "581f2a02-7a94-46cf-ad50-89256379696e",
        "outputId": "60916940-c816-41bf-d523-73e0ea534ae3",
        "colab": {
          "base_uri": "https://localhost:8080/"
        }
      },
      "outputs": [
        {
          "output_type": "execute_result",
          "data": {
            "text/plain": [
              "array([[1, 2, 3, 3, 4]])"
            ]
          },
          "metadata": {},
          "execution_count": 17
        }
      ],
      "source": [
        "np.expand_dims(arr1 ,axis=0)  # expanded dimension from 1 to 2 row"
      ]
    },
    {
      "cell_type": "code",
      "execution_count": null,
      "metadata": {
        "id": "c5da4146-1911-4cb2-aed2-3adcb693bb51",
        "outputId": "f4f0fddb-3e8b-4d65-b1be-6fef1d23ed3a",
        "colab": {
          "base_uri": "https://localhost:8080/"
        }
      },
      "outputs": [
        {
          "output_type": "execute_result",
          "data": {
            "text/plain": [
              "array([[8, 8, 6, 8],\n",
              "       [4, 2, 8, 2],\n",
              "       [3, 4, 5, 7]])"
            ]
          },
          "metadata": {},
          "execution_count": 19
        }
      ],
      "source": [
        "arr"
      ]
    },
    {
      "cell_type": "code",
      "execution_count": null,
      "metadata": {
        "id": "cb422a7e-f8c2-4df6-b7e0-56dc63a7c116",
        "outputId": "459f24ec-f06b-4161-cd2f-f3bd9a9b5309",
        "colab": {
          "base_uri": "https://localhost:8080/"
        }
      },
      "outputs": [
        {
          "output_type": "execute_result",
          "data": {
            "text/plain": [
              "array([[8, 8, 6, 8],\n",
              "       [4, 2, 8, 2],\n",
              "       [3, 4, 5, 7]])"
            ]
          },
          "metadata": {},
          "execution_count": 20
        }
      ],
      "source": [
        "np.squeeze(arr) # not for this"
      ]
    },
    {
      "cell_type": "code",
      "execution_count": null,
      "metadata": {
        "id": "482a100e-261c-4a52-b7af-fc34c9dc8487"
      },
      "outputs": [],
      "source": [
        "data = np.array([[1] , [2] , [3]])"
      ]
    },
    {
      "cell_type": "code",
      "execution_count": null,
      "metadata": {
        "id": "2e0329cd-c448-499f-a364-f4fbd2653fa8",
        "outputId": "04eca3e7-b2d6-417a-cae0-a8665cdf7af2",
        "colab": {
          "base_uri": "https://localhost:8080/"
        }
      },
      "outputs": [
        {
          "output_type": "execute_result",
          "data": {
            "text/plain": [
              "array([[1],\n",
              "       [2],\n",
              "       [3]])"
            ]
          },
          "metadata": {},
          "execution_count": 22
        }
      ],
      "source": [
        "data"
      ]
    },
    {
      "cell_type": "code",
      "execution_count": null,
      "metadata": {
        "id": "927de255-bce2-4de3-9814-46ec3c7a4ef1",
        "outputId": "7cd55331-f6f9-4752-c2ea-5ad90a23c478",
        "colab": {
          "base_uri": "https://localhost:8080/"
        }
      },
      "outputs": [
        {
          "output_type": "execute_result",
          "data": {
            "text/plain": [
              "array([1, 2, 3])"
            ]
          },
          "metadata": {},
          "execution_count": 23
        }
      ],
      "source": [
        "np.squeeze(data) # for single element"
      ]
    },
    {
      "cell_type": "code",
      "execution_count": null,
      "metadata": {
        "id": "25033fa3-39c5-4f5b-a18e-822fa164aff2",
        "outputId": "afa39d86-d7cc-4642-e952-52d4ccfca124",
        "colab": {
          "base_uri": "https://localhost:8080/"
        }
      },
      "outputs": [
        {
          "output_type": "execute_result",
          "data": {
            "text/plain": [
              "array([1, 2, 3, 3, 4])"
            ]
          },
          "metadata": {},
          "execution_count": 24
        }
      ],
      "source": [
        "arr1"
      ]
    },
    {
      "cell_type": "code",
      "execution_count": null,
      "metadata": {
        "id": "791c67b7-bafc-489f-8ff9-b27ace034515",
        "outputId": "7bef8680-70fd-47e6-82e2-fc920df0060c",
        "colab": {
          "base_uri": "https://localhost:8080/"
        }
      },
      "outputs": [
        {
          "output_type": "execute_result",
          "data": {
            "text/plain": [
              "array([1, 1, 1, 2, 2, 2, 3, 3, 3, 3, 3, 3, 4, 4, 4])"
            ]
          },
          "metadata": {},
          "execution_count": 25
        }
      ],
      "source": [
        "np.repeat(arr1, 3)"
      ]
    },
    {
      "cell_type": "code",
      "execution_count": null,
      "metadata": {
        "id": "4ed5803c-fcb2-4112-83dc-e4a7cf80051f",
        "outputId": "ee6f2450-93bd-4e1a-cfb1-5c98f9d49e1b",
        "colab": {
          "base_uri": "https://localhost:8080/"
        }
      },
      "outputs": [
        {
          "output_type": "execute_result",
          "data": {
            "text/plain": [
              "array([3, 3, 4, 1, 2])"
            ]
          },
          "metadata": {},
          "execution_count": 26
        }
      ],
      "source": [
        "np.roll(arr1 , 3)"
      ]
    },
    {
      "cell_type": "code",
      "source": [
        "np.roll(arr1 , 2)"
      ],
      "metadata": {
        "colab": {
          "base_uri": "https://localhost:8080/"
        },
        "id": "AFBRb4jZiXlT",
        "outputId": "ff5d2b3d-ac87-4483-d5d9-f02b7f3f1ec7"
      },
      "execution_count": null,
      "outputs": [
        {
          "output_type": "execute_result",
          "data": {
            "text/plain": [
              "array([3, 4, 1, 2, 3])"
            ]
          },
          "metadata": {},
          "execution_count": 28
        }
      ]
    },
    {
      "cell_type": "code",
      "source": [
        "np.roll(arr1 , 5)"
      ],
      "metadata": {
        "colab": {
          "base_uri": "https://localhost:8080/"
        },
        "id": "dp6I0TGCijcw",
        "outputId": "19841c7e-be34-477a-db1a-10298de3ed0f"
      },
      "execution_count": null,
      "outputs": [
        {
          "output_type": "execute_result",
          "data": {
            "text/plain": [
              "array([1, 2, 3, 3, 4])"
            ]
          },
          "metadata": {},
          "execution_count": 29
        }
      ]
    },
    {
      "cell_type": "code",
      "execution_count": null,
      "metadata": {
        "id": "06c351b0-3b5e-45aa-adcb-0b6f527f1ad4",
        "outputId": "d8fd1f7a-6c07-4d2f-8385-00dda0a0444c",
        "colab": {
          "base_uri": "https://localhost:8080/"
        }
      },
      "outputs": [
        {
          "output_type": "execute_result",
          "data": {
            "text/plain": [
              "array([1, 2, 3, 3, 4])"
            ]
          },
          "metadata": {},
          "execution_count": 27
        }
      ],
      "source": [
        "arr1"
      ]
    },
    {
      "cell_type": "code",
      "execution_count": null,
      "metadata": {
        "id": "9da0c1eb-9542-4359-8c82-1ae43e0d8d70",
        "outputId": "f9d2d9e1-d775-4e6c-ac12-5f40808e586d",
        "colab": {
          "base_uri": "https://localhost:8080/"
        }
      },
      "outputs": [
        {
          "output_type": "execute_result",
          "data": {
            "text/plain": [
              "array([[1, 0, 0, 0, 0],\n",
              "       [0, 2, 0, 0, 0],\n",
              "       [0, 0, 3, 0, 0],\n",
              "       [0, 0, 0, 3, 0],\n",
              "       [0, 0, 0, 0, 4]])"
            ]
          },
          "metadata": {},
          "execution_count": 30
        }
      ],
      "source": [
        "np.diag(arr1)"
      ]
    },
    {
      "cell_type": "code",
      "execution_count": null,
      "metadata": {
        "id": "087bc54f-ac68-4e4e-80a6-b90971b1efc7"
      },
      "outputs": [],
      "source": [
        "#Numpy - Binary Operators."
      ]
    },
    {
      "cell_type": "code",
      "execution_count": null,
      "metadata": {
        "id": "4743e781-a032-4b5c-97f9-6790a1475387"
      },
      "outputs": [],
      "source": [
        "arr1 = np.random.randint(1,10 , (3,4))"
      ]
    },
    {
      "cell_type": "code",
      "execution_count": null,
      "metadata": {
        "id": "0de34a3b-bb40-438d-8bdd-a50567fd0802"
      },
      "outputs": [],
      "source": [
        "arr2 = np.random.randint(1,10 , (3,4))"
      ]
    },
    {
      "cell_type": "code",
      "execution_count": null,
      "metadata": {
        "id": "f365ba96-128e-4d6d-939d-ead1d78b2218",
        "outputId": "a9bce9d8-d110-4018-deb7-03efce1e25d9",
        "colab": {
          "base_uri": "https://localhost:8080/"
        }
      },
      "outputs": [
        {
          "output_type": "execute_result",
          "data": {
            "text/plain": [
              "array([[7, 2, 6, 4],\n",
              "       [1, 3, 6, 7],\n",
              "       [3, 3, 1, 9]])"
            ]
          },
          "metadata": {},
          "execution_count": 34
        }
      ],
      "source": [
        "arr1"
      ]
    },
    {
      "cell_type": "code",
      "execution_count": null,
      "metadata": {
        "id": "bb34436b-4a9d-4eaa-909c-507052b60928",
        "outputId": "8aa33f4b-32bc-4c1d-8c57-5580d5fbc26a",
        "colab": {
          "base_uri": "https://localhost:8080/"
        }
      },
      "outputs": [
        {
          "output_type": "execute_result",
          "data": {
            "text/plain": [
              "array([[2, 7, 9, 5],\n",
              "       [3, 1, 1, 5],\n",
              "       [8, 9, 5, 1]])"
            ]
          },
          "metadata": {},
          "execution_count": 35
        }
      ],
      "source": [
        "arr2"
      ]
    },
    {
      "cell_type": "code",
      "execution_count": null,
      "metadata": {
        "id": "2aaa971a-c8b8-4389-bcce-e5ac95233df2",
        "outputId": "1ea29085-04ad-47f1-a864-bdd7dece225d",
        "colab": {
          "base_uri": "https://localhost:8080/"
        }
      },
      "outputs": [
        {
          "output_type": "execute_result",
          "data": {
            "text/plain": [
              "array([[ 9,  9, 15,  9],\n",
              "       [ 4,  4,  7, 12],\n",
              "       [11, 12,  6, 10]])"
            ]
          },
          "metadata": {},
          "execution_count": 36
        }
      ],
      "source": [
        "arr1+arr2"
      ]
    },
    {
      "cell_type": "code",
      "execution_count": null,
      "metadata": {
        "id": "64bf4340-0f54-4c1b-92a4-25258f707440",
        "outputId": "7939c472-152e-46a3-c383-fb28e71fee77",
        "colab": {
          "base_uri": "https://localhost:8080/"
        }
      },
      "outputs": [
        {
          "output_type": "execute_result",
          "data": {
            "text/plain": [
              "array([[14, 14, 54, 20],\n",
              "       [ 3,  3,  6, 35],\n",
              "       [24, 27,  5,  9]])"
            ]
          },
          "metadata": {},
          "execution_count": 37
        }
      ],
      "source": [
        "arr1*arr2 # index operation"
      ]
    },
    {
      "cell_type": "code",
      "execution_count": null,
      "metadata": {
        "id": "9cada9db-d70b-4fc7-a799-113eea5feffc",
        "outputId": "58ad7e83-9163-4d8a-ee04-388e6132315c",
        "colab": {
          "base_uri": "https://localhost:8080/"
        }
      },
      "outputs": [
        {
          "output_type": "execute_result",
          "data": {
            "text/plain": [
              "array([[3.5       , 0.28571429, 0.66666667, 0.8       ],\n",
              "       [0.33333333, 3.        , 6.        , 1.4       ],\n",
              "       [0.375     , 0.33333333, 0.2       , 9.        ]])"
            ]
          },
          "metadata": {},
          "execution_count": 38
        }
      ],
      "source": [
        "arr1/arr2"
      ]
    },
    {
      "cell_type": "code",
      "execution_count": null,
      "metadata": {
        "id": "7aa1aa01-9430-49a6-8512-a1c4659f3239",
        "outputId": "9d280192-f905-4e1c-f14f-391037ec5a60",
        "colab": {
          "base_uri": "https://localhost:8080/"
        }
      },
      "outputs": [
        {
          "output_type": "execute_result",
          "data": {
            "text/plain": [
              "array([[ 5, -5, -3, -1],\n",
              "       [-2,  2,  5,  2],\n",
              "       [-5, -6, -4,  8]])"
            ]
          },
          "metadata": {},
          "execution_count": 39
        }
      ],
      "source": [
        "arr1-arr2"
      ]
    },
    {
      "cell_type": "code",
      "execution_count": null,
      "metadata": {
        "id": "ae169e7d-614c-4413-9dc0-4e8c4f549b65",
        "outputId": "b34283aa-be25-4c4f-8d9d-18c008fdd1c8",
        "colab": {
          "base_uri": "https://localhost:8080/"
        }
      },
      "outputs": [
        {
          "output_type": "execute_result",
          "data": {
            "text/plain": [
              "array([[1, 2, 6, 4],\n",
              "       [1, 0, 0, 2],\n",
              "       [3, 3, 1, 0]])"
            ]
          },
          "metadata": {},
          "execution_count": 40
        }
      ],
      "source": [
        "arr1%arr2 # reminder operation"
      ]
    },
    {
      "cell_type": "code",
      "execution_count": null,
      "metadata": {
        "id": "de5cdebb-db94-4214-abee-e700ada41404",
        "outputId": "a59b2427-4948-4308-9abd-f55f89172a71",
        "colab": {
          "base_uri": "https://localhost:8080/"
        }
      },
      "outputs": [
        {
          "output_type": "execute_result",
          "data": {
            "text/plain": [
              "array([[      49,      128, 10077696,     1024],\n",
              "       [       1,        3,        6,    16807],\n",
              "       [    6561,    19683,        1,        9]])"
            ]
          },
          "metadata": {},
          "execution_count": 41
        }
      ],
      "source": [
        "arr1 ** arr2 # power operation"
      ]
    },
    {
      "cell_type": "code",
      "execution_count": null,
      "metadata": {
        "id": "ba653204-07f5-48da-a72f-f509378710eb",
        "outputId": "9f2654e0-2fa3-42b3-f516-f3a5a7b08f7a",
        "colab": {
          "base_uri": "https://localhost:8080/"
        }
      },
      "outputs": [
        {
          "output_type": "execute_result",
          "data": {
            "text/plain": [
              "array([[2, 2, 0, 4],\n",
              "       [1, 1, 0, 5],\n",
              "       [0, 1, 1, 1]])"
            ]
          },
          "metadata": {},
          "execution_count": 45
        }
      ],
      "source": [
        "arr1 & arr2 # and operation"
      ]
    },
    {
      "cell_type": "code",
      "execution_count": null,
      "metadata": {
        "id": "ad37e291-4287-4b68-9ab6-601fc32b4956",
        "outputId": "1d599029-a626-43af-fa9b-8655648926ae",
        "colab": {
          "base_uri": "https://localhost:8080/"
        }
      },
      "outputs": [
        {
          "output_type": "execute_result",
          "data": {
            "text/plain": [
              "array([[7, 2, 6, 4],\n",
              "       [1, 3, 6, 7],\n",
              "       [3, 3, 1, 9]])"
            ]
          },
          "metadata": {},
          "execution_count": 43
        }
      ],
      "source": [
        "arr1"
      ]
    },
    {
      "cell_type": "code",
      "execution_count": null,
      "metadata": {
        "id": "485c49a1-042f-4b25-b9c4-f8700428940f",
        "outputId": "a173f512-7879-435c-e8fe-6866ef02cd9c",
        "colab": {
          "base_uri": "https://localhost:8080/"
        }
      },
      "outputs": [
        {
          "output_type": "execute_result",
          "data": {
            "text/plain": [
              "array([[2, 7, 9, 5],\n",
              "       [3, 1, 1, 5],\n",
              "       [8, 9, 5, 1]])"
            ]
          },
          "metadata": {},
          "execution_count": 44
        }
      ],
      "source": [
        "arr2"
      ]
    },
    {
      "cell_type": "code",
      "execution_count": null,
      "metadata": {
        "id": "89b215f8-56fd-4120-bea1-7f7f9d0a38b9",
        "outputId": "1ccd1efe-2469-4ec6-f0f3-91a10e75403c",
        "colab": {
          "base_uri": "https://localhost:8080/"
        }
      },
      "outputs": [
        {
          "output_type": "execute_result",
          "data": {
            "text/plain": [
              "array([[ -8,  -3,  -7,  -5],\n",
              "       [ -2,  -4,  -7,  -8],\n",
              "       [ -4,  -4,  -2, -10]])"
            ]
          },
          "metadata": {},
          "execution_count": 46
        }
      ],
      "source": [
        "~arr1 # negate (negative) operation"
      ]
    },
    {
      "cell_type": "code",
      "execution_count": null,
      "metadata": {
        "id": "7e510c77-ee13-4d69-9471-44299248149c",
        "outputId": "7d574536-94bc-4c17-c574-819a8b7d1142",
        "colab": {
          "base_uri": "https://localhost:8080/"
        }
      },
      "outputs": [
        {
          "output_type": "execute_result",
          "data": {
            "text/plain": [
              "array([[ 7,  7, 15,  5],\n",
              "       [ 3,  3,  7,  7],\n",
              "       [11, 11,  5,  9]])"
            ]
          },
          "metadata": {},
          "execution_count": 47
        }
      ],
      "source": [
        "arr1|arr2 # or operation"
      ]
    },
    {
      "cell_type": "code",
      "execution_count": null,
      "metadata": {
        "id": "10a1f04d-2d64-4354-8f7a-089f70f21ab8",
        "outputId": "646d87f6-2b3a-4360-c5a1-dfa89c8197f6",
        "colab": {
          "base_uri": "https://localhost:8080/"
        }
      },
      "outputs": [
        {
          "output_type": "execute_result",
          "data": {
            "text/plain": [
              "array([[ True, False, False, False],\n",
              "       [False,  True,  True,  True],\n",
              "       [False, False, False,  True]])"
            ]
          },
          "metadata": {},
          "execution_count": 48
        }
      ],
      "source": [
        "arr1>arr2"
      ]
    },
    {
      "cell_type": "code",
      "execution_count": null,
      "metadata": {
        "id": "0c577286-be78-48f5-84fb-701aa8a66710"
      },
      "outputs": [],
      "source": [
        "#Numpy - String Functions."
      ]
    },
    {
      "cell_type": "code",
      "execution_count": null,
      "metadata": {
        "id": "311e0074-51cc-4ce0-935e-995426b974da"
      },
      "outputs": [],
      "source": [
        "arr = np.array(['Ashraf' , \"Sayyad\"])"
      ]
    },
    {
      "cell_type": "code",
      "execution_count": null,
      "metadata": {
        "id": "7a85b714-022c-4604-9f81-b0810abc39b7",
        "outputId": "f9d287cc-c40d-4481-8bd6-1890787f5ef0",
        "colab": {
          "base_uri": "https://localhost:8080/"
        }
      },
      "outputs": [
        {
          "output_type": "execute_result",
          "data": {
            "text/plain": [
              "array(['Ashraf', 'Sayyad'], dtype='<U6')"
            ]
          },
          "metadata": {},
          "execution_count": 55
        }
      ],
      "source": [
        "arr"
      ]
    },
    {
      "cell_type": "code",
      "execution_count": null,
      "metadata": {
        "id": "2920b441-c446-4d67-a92e-f17047b01881",
        "outputId": "7722f7a5-e22e-4300-82f6-bb2eea44f827",
        "colab": {
          "base_uri": "https://localhost:8080/"
        }
      },
      "outputs": [
        {
          "output_type": "execute_result",
          "data": {
            "text/plain": [
              "array(['ASHRAF', 'SAYYAD'], dtype='<U6')"
            ]
          },
          "metadata": {},
          "execution_count": 56
        }
      ],
      "source": [
        "np.char.upper(arr)"
      ]
    },
    {
      "cell_type": "code",
      "execution_count": null,
      "metadata": {
        "id": "3643e8c8-1ef6-438b-9944-a66d408f58f7",
        "outputId": "0e7b80cf-983f-49de-d8b8-9af27fc3b3a7",
        "colab": {
          "base_uri": "https://localhost:8080/"
        }
      },
      "outputs": [
        {
          "output_type": "execute_result",
          "data": {
            "text/plain": [
              "array(['Ashraf', 'Sayyad'], dtype='<U6')"
            ]
          },
          "metadata": {},
          "execution_count": 57
        }
      ],
      "source": [
        "np.char.title(arr)"
      ]
    },
    {
      "cell_type": "code",
      "execution_count": null,
      "metadata": {
        "id": "15e4a766-26e6-4635-a820-af64a00accd7",
        "outputId": "e9207e91-919c-4c6a-898e-201480cf85a4",
        "colab": {
          "base_uri": "https://localhost:8080/"
        }
      },
      "outputs": [
        {
          "output_type": "execute_result",
          "data": {
            "text/plain": [
              "array(['Ashraf', 'Sayyad'], dtype='<U6')"
            ]
          },
          "metadata": {},
          "execution_count": 58
        }
      ],
      "source": [
        "np.char.capitalize(arr)"
      ]
    },
    {
      "cell_type": "code",
      "execution_count": null,
      "metadata": {
        "id": "4be60b9e-a4ac-43a7-bd7a-c5cf4c3f1f29"
      },
      "outputs": [],
      "source": [
        "#Numpy - Mathematical Functions."
      ]
    },
    {
      "cell_type": "code",
      "execution_count": null,
      "metadata": {
        "id": "96bd5e25-ba4c-4f1f-89b9-e5fe6e8c6ae8",
        "outputId": "03d9e542-7a86-4d6d-c732-aa681c0c7681",
        "colab": {
          "base_uri": "https://localhost:8080/"
        }
      },
      "outputs": [
        {
          "output_type": "execute_result",
          "data": {
            "text/plain": [
              "array([[7, 2, 6, 4],\n",
              "       [1, 3, 6, 7],\n",
              "       [3, 3, 1, 9]])"
            ]
          },
          "metadata": {},
          "execution_count": 60
        }
      ],
      "source": [
        "arr1"
      ]
    },
    {
      "cell_type": "code",
      "execution_count": null,
      "metadata": {
        "id": "0a1777e8-0b03-4fd8-9424-3dc1541eef3f",
        "outputId": "46e4cec8-b31a-4ee2-d548-bf6ca3b5c883",
        "colab": {
          "base_uri": "https://localhost:8080/"
        }
      },
      "outputs": [
        {
          "output_type": "execute_result",
          "data": {
            "text/plain": [
              "array([[ 0.6569866 ,  0.90929743, -0.2794155 , -0.7568025 ],\n",
              "       [ 0.84147098,  0.14112001, -0.2794155 ,  0.6569866 ],\n",
              "       [ 0.14112001,  0.14112001,  0.84147098,  0.41211849]])"
            ]
          },
          "metadata": {},
          "execution_count": 61
        }
      ],
      "source": [
        "np.sin(arr1)"
      ]
    },
    {
      "cell_type": "code",
      "execution_count": null,
      "metadata": {
        "id": "64c4b08b-6a26-41a9-851b-6c9656904bad",
        "outputId": "a1702834-39ca-4001-da7d-0700cc86bb7a",
        "colab": {
          "base_uri": "https://localhost:8080/"
        }
      },
      "outputs": [
        {
          "output_type": "execute_result",
          "data": {
            "text/plain": [
              "array([[ 0.75390225, -0.41614684,  0.96017029, -0.65364362],\n",
              "       [ 0.54030231, -0.9899925 ,  0.96017029,  0.75390225],\n",
              "       [-0.9899925 , -0.9899925 ,  0.54030231, -0.91113026]])"
            ]
          },
          "metadata": {},
          "execution_count": 62
        }
      ],
      "source": [
        "np.cos(arr1)"
      ]
    },
    {
      "cell_type": "code",
      "execution_count": null,
      "metadata": {
        "id": "70e50bc7-d0d2-4900-a442-9dcd0caf2186",
        "outputId": "d31f81c5-6ca4-4628-81b8-f6c4dbc96b52",
        "colab": {
          "base_uri": "https://localhost:8080/"
        }
      },
      "outputs": [
        {
          "output_type": "execute_result",
          "data": {
            "text/plain": [
              "array([[ 0.87144798, -2.18503986, -0.29100619,  1.15782128],\n",
              "       [ 1.55740772, -0.14254654, -0.29100619,  0.87144798],\n",
              "       [-0.14254654, -0.14254654,  1.55740772, -0.45231566]])"
            ]
          },
          "metadata": {},
          "execution_count": 63
        }
      ],
      "source": [
        "np.tan(arr1)"
      ]
    },
    {
      "cell_type": "code",
      "execution_count": null,
      "metadata": {
        "id": "f6b6ac01-ca6a-4fce-b51c-6f95fb528c31",
        "outputId": "737bd509-9e2a-45c8-94a5-7d64b747dc53",
        "colab": {
          "base_uri": "https://localhost:8080/"
        }
      },
      "outputs": [
        {
          "output_type": "execute_result",
          "data": {
            "text/plain": [
              "array([[0.99999834, 0.96402758, 0.99998771, 0.9993293 ],\n",
              "       [0.76159416, 0.99505475, 0.99998771, 0.99999834],\n",
              "       [0.99505475, 0.99505475, 0.76159416, 0.99999997]])"
            ]
          },
          "metadata": {},
          "execution_count": 64
        }
      ],
      "source": [
        "np.tanh(arr1)"
      ]
    },
    {
      "cell_type": "code",
      "execution_count": null,
      "metadata": {
        "id": "20f6a349-a0e1-463e-990c-b243f053b25f",
        "outputId": "9d6a306f-06bc-4a54-ab72-212dd027aa83",
        "colab": {
          "base_uri": "https://localhost:8080/"
        }
      },
      "outputs": [
        {
          "output_type": "execute_result",
          "data": {
            "text/plain": [
              "array([[0.84509804, 0.30103   , 0.77815125, 0.60205999],\n",
              "       [0.        , 0.47712125, 0.77815125, 0.84509804],\n",
              "       [0.47712125, 0.47712125, 0.        , 0.95424251]])"
            ]
          },
          "metadata": {},
          "execution_count": 65
        }
      ],
      "source": [
        "np.log10(arr1)"
      ]
    },
    {
      "cell_type": "code",
      "execution_count": null,
      "metadata": {
        "id": "dea1ff7b-1373-462f-95ca-e04cedb7216a",
        "outputId": "e9a2528a-4376-4f8b-a4fa-5506f78f2083",
        "colab": {
          "base_uri": "https://localhost:8080/"
        }
      },
      "outputs": [
        {
          "output_type": "execute_result",
          "data": {
            "text/plain": [
              "array([[1.09663316e+03, 7.38905610e+00, 4.03428793e+02, 5.45981500e+01],\n",
              "       [2.71828183e+00, 2.00855369e+01, 4.03428793e+02, 1.09663316e+03],\n",
              "       [2.00855369e+01, 2.00855369e+01, 2.71828183e+00, 8.10308393e+03]])"
            ]
          },
          "metadata": {},
          "execution_count": 66
        }
      ],
      "source": [
        "np.exp(arr1)"
      ]
    },
    {
      "cell_type": "code",
      "execution_count": null,
      "metadata": {
        "id": "d4d635ec-b87c-47bd-a5e7-77a9b992c075",
        "outputId": "90241576-b0a0-4255-8125-6a17811f326f",
        "colab": {
          "base_uri": "https://localhost:8080/"
        }
      },
      "outputs": [
        {
          "output_type": "execute_result",
          "data": {
            "text/plain": [
              "array([[2.64575131, 1.41421356, 2.44948974, 2.        ],\n",
              "       [1.        , 1.73205081, 2.44948974, 2.64575131],\n",
              "       [1.73205081, 1.73205081, 1.        , 3.        ]])"
            ]
          },
          "metadata": {},
          "execution_count": 67
        }
      ],
      "source": [
        "np.sqrt(arr1)"
      ]
    },
    {
      "cell_type": "code",
      "execution_count": null,
      "metadata": {
        "id": "26fc3c49-dfc4-4282-ad9e-3e219f5d2888",
        "outputId": "6f5a468b-253e-4816-d712-d124bd2cc0ef",
        "colab": {
          "base_uri": "https://localhost:8080/"
        }
      },
      "outputs": [
        {
          "output_type": "execute_result",
          "data": {
            "text/plain": [
              "array([[49,  4, 36, 16],\n",
              "       [ 1,  9, 36, 49],\n",
              "       [ 9,  9,  1, 81]])"
            ]
          },
          "metadata": {},
          "execution_count": 68
        }
      ],
      "source": [
        "np.power(arr1,2)"
      ]
    },
    {
      "cell_type": "code",
      "execution_count": null,
      "metadata": {
        "id": "7854a41f-3a4d-48b2-8356-a1eff2c1f49c",
        "outputId": "4ad7183f-1360-4fd6-abd0-5c07589a917d",
        "colab": {
          "base_uri": "https://localhost:8080/"
        }
      },
      "outputs": [
        {
          "output_type": "execute_result",
          "data": {
            "text/plain": [
              "4.333333333333333"
            ]
          },
          "metadata": {},
          "execution_count": 69
        }
      ],
      "source": [
        "np.mean(arr1)"
      ]
    },
    {
      "cell_type": "code",
      "execution_count": null,
      "metadata": {
        "id": "47964225-57df-46ed-abb4-f09d0554b774",
        "outputId": "bb5539e2-c146-4948-8565-1ea119547d11",
        "colab": {
          "base_uri": "https://localhost:8080/"
        }
      },
      "outputs": [
        {
          "output_type": "execute_result",
          "data": {
            "text/plain": [
              "3.5"
            ]
          },
          "metadata": {},
          "execution_count": 70
        }
      ],
      "source": [
        "np.median(arr1)"
      ]
    },
    {
      "cell_type": "code",
      "execution_count": null,
      "metadata": {
        "id": "ef6a5b39-9466-4a1e-a0b1-3d0bde8d9314",
        "outputId": "ceff79f4-d525-418c-9f75-59b083be585c",
        "colab": {
          "base_uri": "https://localhost:8080/"
        }
      },
      "outputs": [
        {
          "output_type": "execute_result",
          "data": {
            "text/plain": [
              "2.494438257849294"
            ]
          },
          "metadata": {},
          "execution_count": 71
        }
      ],
      "source": [
        "np.std(arr1)"
      ]
    },
    {
      "cell_type": "code",
      "execution_count": null,
      "metadata": {
        "id": "9fb70efd-6272-484f-9fd8-d578198e8832",
        "outputId": "bea29130-9b84-48e1-f7d7-a78db50a4cfa",
        "colab": {
          "base_uri": "https://localhost:8080/"
        }
      },
      "outputs": [
        {
          "output_type": "execute_result",
          "data": {
            "text/plain": [
              "6.222222222222222"
            ]
          },
          "metadata": {},
          "execution_count": 72
        }
      ],
      "source": [
        "np.var(arr1)"
      ]
    },
    {
      "cell_type": "code",
      "execution_count": null,
      "metadata": {
        "id": "d8835b5e-0b5b-4e2e-826c-47fdf357266a",
        "outputId": "2fb19a8a-7e60-440d-9d9e-bcf94229bf74",
        "colab": {
          "base_uri": "https://localhost:8080/"
        }
      },
      "outputs": [
        {
          "output_type": "execute_result",
          "data": {
            "text/plain": [
              "1"
            ]
          },
          "metadata": {},
          "execution_count": 73
        }
      ],
      "source": [
        "np.min(arr1\n",
        "      )"
      ]
    },
    {
      "cell_type": "code",
      "execution_count": null,
      "metadata": {
        "id": "6648b623-f9f1-4fb9-9596-41bf22c32635",
        "outputId": "cf1fe209-b90c-4aba-d410-155f88ddac33",
        "colab": {
          "base_uri": "https://localhost:8080/"
        }
      },
      "outputs": [
        {
          "output_type": "execute_result",
          "data": {
            "text/plain": [
              "9"
            ]
          },
          "metadata": {},
          "execution_count": 74
        }
      ],
      "source": [
        "np.max(arr1)"
      ]
    },
    {
      "cell_type": "code",
      "execution_count": null,
      "metadata": {
        "id": "3981a976-c908-4bcd-9140-3c179a165d6f"
      },
      "outputs": [],
      "source": []
    }
  ]
}