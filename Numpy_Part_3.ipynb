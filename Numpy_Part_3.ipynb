{
  "nbformat": 4,
  "nbformat_minor": 0,
  "metadata": {
    "colab": {
      "provenance": []
    },
    "kernelspec": {
      "name": "python3",
      "display_name": "Python 3"
    },
    "language_info": {
      "name": "python"
    }
  },
  "cells": [
    {
      "cell_type": "markdown",
      "source": [
        "# Numpy_Part_3"
      ],
      "metadata": {
        "id": "vU2Qi5Axf1rR"
      }
    },
    {
      "cell_type": "code",
      "execution_count": 1,
      "metadata": {
        "id": "b7f9911e-daa3-4b38-b75c-2efa7672c17f"
      },
      "outputs": [],
      "source": [
        "#Sort, Search & Counting Functions."
      ]
    },
    {
      "cell_type": "code",
      "execution_count": 2,
      "metadata": {
        "id": "edc9e295-4992-447d-b0fe-6c825ab0c251"
      },
      "outputs": [],
      "source": [
        "import numpy as np"
      ]
    },
    {
      "cell_type": "code",
      "execution_count": 3,
      "metadata": {
        "id": "3df26a48-811b-4090-86eb-091ceab11c87"
      },
      "outputs": [],
      "source": [
        "arr = np.array([4,3,4,5,6,72,3,3,455,5,6,6])"
      ]
    },
    {
      "cell_type": "code",
      "execution_count": 4,
      "metadata": {
        "id": "c7b1dd61-4388-43d2-a15d-3227b5899bc8",
        "outputId": "7f772bb0-e980-42cc-be52-5448fe4d67e2",
        "colab": {
          "base_uri": "https://localhost:8080/"
        }
      },
      "outputs": [
        {
          "output_type": "execute_result",
          "data": {
            "text/plain": [
              "array([  4,   3,   4,   5,   6,  72,   3,   3, 455,   5,   6,   6])"
            ]
          },
          "metadata": {},
          "execution_count": 4
        }
      ],
      "source": [
        "arr"
      ]
    },
    {
      "cell_type": "code",
      "execution_count": 5,
      "metadata": {
        "id": "764a8750-a87e-441f-a6de-69bbaaf7437d",
        "outputId": "849fb35f-ed64-4b5e-90bc-858061d6d51f",
        "colab": {
          "base_uri": "https://localhost:8080/"
        }
      },
      "outputs": [
        {
          "output_type": "execute_result",
          "data": {
            "text/plain": [
              "array([  3,   3,   3,   4,   4,   5,   5,   6,   6,   6,  72, 455])"
            ]
          },
          "metadata": {},
          "execution_count": 5
        }
      ],
      "source": [
        "np.sort(arr)"
      ]
    },
    {
      "cell_type": "code",
      "execution_count": 6,
      "metadata": {
        "id": "2d152f34-07b4-4980-8904-af171ec8d221",
        "outputId": "d11f8d69-90dc-42ca-8bdd-73aa38f81cdf",
        "colab": {
          "base_uri": "https://localhost:8080/"
        }
      },
      "outputs": [
        {
          "output_type": "execute_result",
          "data": {
            "text/plain": [
              "12"
            ]
          },
          "metadata": {},
          "execution_count": 6
        }
      ],
      "source": [
        "np.searchsorted(arr ,34)"
      ]
    },
    {
      "cell_type": "code",
      "execution_count": 7,
      "metadata": {
        "id": "a417523f-74f0-4c73-8ee1-087157761742"
      },
      "outputs": [],
      "source": [
        "arr1 = np.array([0,345,454,0,0,0,0,0])"
      ]
    },
    {
      "cell_type": "code",
      "execution_count": 8,
      "metadata": {
        "id": "a5bef365-16dd-48cf-9138-3179de26d81b",
        "outputId": "1b4fbc28-bb98-4fff-90d9-cc9df3c45ae5",
        "colab": {
          "base_uri": "https://localhost:8080/"
        }
      },
      "outputs": [
        {
          "output_type": "execute_result",
          "data": {
            "text/plain": [
              "2"
            ]
          },
          "metadata": {},
          "execution_count": 8
        }
      ],
      "source": [
        "np.count_nonzero(arr1)"
      ]
    },
    {
      "cell_type": "code",
      "execution_count": 9,
      "metadata": {
        "id": "e66e1c37-2e86-4210-8e45-2399943cd78a",
        "outputId": "6db34dcd-4e23-4cdc-814c-095699d0fe0e",
        "colab": {
          "base_uri": "https://localhost:8080/"
        }
      },
      "outputs": [
        {
          "output_type": "execute_result",
          "data": {
            "text/plain": [
              "array([  4,   3,   4,   5,   6,  72,   3,   3, 455,   5,   6,   6])"
            ]
          },
          "metadata": {},
          "execution_count": 9
        }
      ],
      "source": [
        "arr"
      ]
    },
    {
      "cell_type": "code",
      "execution_count": 10,
      "metadata": {
        "id": "8704a004-f9ad-49fb-8007-ea0d844c834d",
        "outputId": "d968ee35-7d56-4d9b-99f6-736623804f66",
        "colab": {
          "base_uri": "https://localhost:8080/"
        }
      },
      "outputs": [
        {
          "output_type": "execute_result",
          "data": {
            "text/plain": [
              "(array([5, 8]),)"
            ]
          },
          "metadata": {},
          "execution_count": 10
        }
      ],
      "source": [
        "np.where(arr > 6)"
      ]
    },
    {
      "cell_type": "code",
      "execution_count": 11,
      "metadata": {
        "id": "f3839e16-8b08-4e54-9621-35085e38689c",
        "outputId": "f4028d60-7b7c-44e9-a2b7-d299438c8919",
        "colab": {
          "base_uri": "https://localhost:8080/"
        }
      },
      "outputs": [
        {
          "output_type": "execute_result",
          "data": {
            "text/plain": [
              "array([  4,   4,   5,   6,  72, 455,   5,   6,   6])"
            ]
          },
          "metadata": {},
          "execution_count": 11
        }
      ],
      "source": [
        "np.extract(arr>3 , arr)"
      ]
    },
    {
      "cell_type": "code",
      "execution_count": 12,
      "metadata": {
        "id": "6904916f-4257-416b-b13c-6338c5c888ac"
      },
      "outputs": [],
      "source": [
        "#Numpy - Byte Swapping."
      ]
    },
    {
      "cell_type": "code",
      "execution_count": 13,
      "metadata": {
        "id": "34ade5f2-16d6-4416-8e55-a174283eaf93",
        "outputId": "64891a28-ff37-44df-d403-63791dad8b7d",
        "colab": {
          "base_uri": "https://localhost:8080/"
        }
      },
      "outputs": [
        {
          "output_type": "execute_result",
          "data": {
            "text/plain": [
              "array([  4,   3,   4,   5,   6,  72,   3,   3, 455,   5,   6,   6])"
            ]
          },
          "metadata": {},
          "execution_count": 13
        }
      ],
      "source": [
        "arr"
      ]
    },
    {
      "cell_type": "code",
      "execution_count": 14,
      "metadata": {
        "id": "80e0692d-74d1-49d1-b262-6567a73dc04a",
        "outputId": "b79c1a84-e337-46bd-a3e8-5d1173b31907",
        "colab": {
          "base_uri": "https://localhost:8080/"
        }
      },
      "outputs": [
        {
          "output_type": "execute_result",
          "data": {
            "text/plain": [
              "array([  288230376151711744,   216172782113783808,   288230376151711744,\n",
              "         360287970189639680,   432345564227567616,  5188146770730811392,\n",
              "         216172782113783808,   216172782113783808, -4107001385185181696,\n",
              "         360287970189639680,   432345564227567616,   432345564227567616])"
            ]
          },
          "metadata": {},
          "execution_count": 14
        }
      ],
      "source": [
        "arr.byteswap()"
      ]
    },
    {
      "cell_type": "code",
      "execution_count": 15,
      "metadata": {
        "id": "9efa9985-a908-4a8e-a31c-9b2d995299dd"
      },
      "outputs": [],
      "source": [
        "#Numpy - Copies &Views."
      ]
    },
    {
      "cell_type": "code",
      "execution_count": 16,
      "metadata": {
        "id": "fccc4556-dcf9-41a7-b110-a4d327f5fbc3",
        "outputId": "4803e5e9-40eb-4317-a8f9-0b6e93d309cd",
        "colab": {
          "base_uri": "https://localhost:8080/"
        }
      },
      "outputs": [
        {
          "output_type": "execute_result",
          "data": {
            "text/plain": [
              "array([  4,   3,   4,   5,   6,  72,   3,   3, 455,   5,   6,   6])"
            ]
          },
          "metadata": {},
          "execution_count": 16
        }
      ],
      "source": [
        "arr"
      ]
    },
    {
      "cell_type": "code",
      "execution_count": 17,
      "metadata": {
        "id": "5fe66ca0-4b5d-4fd3-bbcc-57c6aea85808"
      },
      "outputs": [],
      "source": [
        "a = np.copy(arr) # deep copy, when you are changing in arr not affect in a"
      ]
    },
    {
      "cell_type": "code",
      "execution_count": 18,
      "metadata": {
        "id": "6ac732eb-5e60-4742-99a4-dd65c87a8e1b"
      },
      "outputs": [],
      "source": [
        "b = arr.view() # salow copy, when you are changing in arr also change in b"
      ]
    },
    {
      "cell_type": "code",
      "source": [],
      "metadata": {
        "id": "0kBITBgjm8ne"
      },
      "execution_count": null,
      "outputs": []
    },
    {
      "cell_type": "code",
      "execution_count": 19,
      "metadata": {
        "id": "f4e717f2-fa54-4047-bc90-b680a17703d1"
      },
      "outputs": [],
      "source": [
        "b = arr"
      ]
    },
    {
      "cell_type": "code",
      "execution_count": 20,
      "metadata": {
        "id": "bdce87eb-fb9d-4777-ab05-908c919e978c",
        "outputId": "55928b5d-523d-4baa-c08f-a4890da1b38f",
        "colab": {
          "base_uri": "https://localhost:8080/"
        }
      },
      "outputs": [
        {
          "output_type": "execute_result",
          "data": {
            "text/plain": [
              "array([  4,   3,   4,   5,   6,  72,   3,   3, 455,   5,   6,   6])"
            ]
          },
          "metadata": {},
          "execution_count": 20
        }
      ],
      "source": [
        "b"
      ]
    },
    {
      "cell_type": "code",
      "execution_count": 21,
      "metadata": {
        "id": "a0a1131d-09c1-45a0-818d-e43956c13a6c",
        "outputId": "9448cb4f-feb1-42e6-be74-d945afe1a6b8",
        "colab": {
          "base_uri": "https://localhost:8080/"
        }
      },
      "outputs": [
        {
          "output_type": "execute_result",
          "data": {
            "text/plain": [
              "array([  4,   3,   4,   5,   6,  72,   3,   3, 455,   5,   6,   6])"
            ]
          },
          "metadata": {},
          "execution_count": 21
        }
      ],
      "source": [
        "arr"
      ]
    },
    {
      "cell_type": "code",
      "execution_count": 22,
      "metadata": {
        "id": "43725e09-8ba4-42c6-90a5-405c8778c3df"
      },
      "outputs": [],
      "source": [
        "b[0] = 67"
      ]
    },
    {
      "cell_type": "code",
      "execution_count": 23,
      "metadata": {
        "id": "4b44653a-dea3-493a-bcf8-fa2b081e9ba4",
        "outputId": "521cd519-0131-4fb8-eee8-15da4417acc2",
        "colab": {
          "base_uri": "https://localhost:8080/"
        }
      },
      "outputs": [
        {
          "output_type": "execute_result",
          "data": {
            "text/plain": [
              "array([ 67,   3,   4,   5,   6,  72,   3,   3, 455,   5,   6,   6])"
            ]
          },
          "metadata": {},
          "execution_count": 23
        }
      ],
      "source": [
        "b"
      ]
    },
    {
      "cell_type": "code",
      "execution_count": 24,
      "metadata": {
        "id": "7215c2ca-3944-4c52-a0b8-cd8de6b5a7d5",
        "outputId": "fc086c9f-cacf-4992-d424-eb8033c81228",
        "colab": {
          "base_uri": "https://localhost:8080/"
        }
      },
      "outputs": [
        {
          "output_type": "execute_result",
          "data": {
            "text/plain": [
              "array([ 67,   3,   4,   5,   6,  72,   3,   3, 455,   5,   6,   6])"
            ]
          },
          "metadata": {},
          "execution_count": 24
        }
      ],
      "source": [
        "arr"
      ]
    },
    {
      "cell_type": "code",
      "execution_count": 25,
      "metadata": {
        "id": "65037e45-8037-4704-a822-24923171b621"
      },
      "outputs": [],
      "source": [
        "#Numpy - Matrix Library."
      ]
    },
    {
      "cell_type": "code",
      "execution_count": 26,
      "metadata": {
        "id": "c88de0e4-8e91-4c17-9c2c-b03799c45452"
      },
      "outputs": [],
      "source": [
        "import numpy.matlib as nm"
      ]
    },
    {
      "cell_type": "code",
      "execution_count": 27,
      "metadata": {
        "id": "b1fd0920-6849-4e30-97c4-a8d663a6c248",
        "outputId": "b9c9516d-32b0-4fd2-d64c-7e2aa9cc2949",
        "colab": {
          "base_uri": "https://localhost:8080/"
        }
      },
      "outputs": [
        {
          "output_type": "execute_result",
          "data": {
            "text/plain": [
              "matrix([[0., 0., 0., 0., 0.]])"
            ]
          },
          "metadata": {},
          "execution_count": 27
        }
      ],
      "source": [
        "nm.zeros(5 #Matrix Library.\n",
        "        )"
      ]
    },
    {
      "cell_type": "code",
      "execution_count": 28,
      "metadata": {
        "id": "02ea015d-707b-401f-a298-6f47b111f893",
        "outputId": "6f087879-4ed6-4d33-a272-11349e72027d",
        "colab": {
          "base_uri": "https://localhost:8080/"
        }
      },
      "outputs": [
        {
          "output_type": "execute_result",
          "data": {
            "text/plain": [
              "matrix([[1., 1., 1., 1.],\n",
              "        [1., 1., 1., 1.],\n",
              "        [1., 1., 1., 1.]])"
            ]
          },
          "metadata": {},
          "execution_count": 28
        }
      ],
      "source": [
        "nm.ones((3,4)) # Matrix"
      ]
    },
    {
      "cell_type": "code",
      "execution_count": 29,
      "metadata": {
        "id": "19d2adbf-e996-4f0d-b3dc-28d3d5849514",
        "outputId": "82e3d059-ee55-4e3d-e138-f9e48725b3f2",
        "colab": {
          "base_uri": "https://localhost:8080/"
        }
      },
      "outputs": [
        {
          "output_type": "execute_result",
          "data": {
            "text/plain": [
              "matrix([[1., 0., 0., 0., 0.],\n",
              "        [0., 1., 0., 0., 0.],\n",
              "        [0., 0., 1., 0., 0.],\n",
              "        [0., 0., 0., 1., 0.],\n",
              "        [0., 0., 0., 0., 1.]])"
            ]
          },
          "metadata": {},
          "execution_count": 29
        }
      ],
      "source": [
        "nm.eye(5) # identity matrix"
      ]
    },
    {
      "cell_type": "code",
      "execution_count": 44,
      "metadata": {
        "id": "3b6d62bb-4a48-4be8-96e9-35a5ea9b2498"
      },
      "outputs": [],
      "source": [
        "#Numpy - Linear Algebra"
      ]
    },
    {
      "cell_type": "code",
      "execution_count": 45,
      "metadata": {
        "id": "51c3cada-96bf-4b5f-b937-a4782dc8d48a"
      },
      "outputs": [],
      "source": [
        "arr1 = np.random.randint([[2,3] , [4,5]])"
      ]
    },
    {
      "cell_type": "code",
      "execution_count": 46,
      "metadata": {
        "id": "a160ada2-614c-4afb-b736-0774c90a99d9"
      },
      "outputs": [],
      "source": [
        "arr2 = np.random.randint([[5,3] , [2,5]])"
      ]
    },
    {
      "cell_type": "code",
      "source": [
        "arr1"
      ],
      "metadata": {
        "colab": {
          "base_uri": "https://localhost:8080/"
        },
        "id": "9Ip26x8Xnwxr",
        "outputId": "4d6c1a23-d920-4f94-9bf2-eb11136d16d8"
      },
      "execution_count": 47,
      "outputs": [
        {
          "output_type": "execute_result",
          "data": {
            "text/plain": [
              "array([[0, 1],\n",
              "       [2, 0]])"
            ]
          },
          "metadata": {},
          "execution_count": 47
        }
      ]
    },
    {
      "cell_type": "code",
      "source": [
        "arr2"
      ],
      "metadata": {
        "colab": {
          "base_uri": "https://localhost:8080/"
        },
        "id": "t5tilwFEnw03",
        "outputId": "e71b2434-6411-4849-bc77-e8fefc8bd3f2"
      },
      "execution_count": 48,
      "outputs": [
        {
          "output_type": "execute_result",
          "data": {
            "text/plain": [
              "array([[1, 0],\n",
              "       [0, 2]])"
            ]
          },
          "metadata": {},
          "execution_count": 48
        }
      ]
    },
    {
      "cell_type": "code",
      "source": [
        "np.dot(arr1, arr2)"
      ],
      "metadata": {
        "colab": {
          "base_uri": "https://localhost:8080/"
        },
        "id": "YH9BiqYmnhwg",
        "outputId": "431fd377-ffe9-4b7b-b42e-51edd9a8efe5"
      },
      "execution_count": 49,
      "outputs": [
        {
          "output_type": "execute_result",
          "data": {
            "text/plain": [
              "array([[0, 2],\n",
              "       [2, 0]])"
            ]
          },
          "metadata": {},
          "execution_count": 49
        }
      ]
    },
    {
      "cell_type": "code",
      "source": [
        "arr1@arr2 # matrix multiplication in array"
      ],
      "metadata": {
        "colab": {
          "base_uri": "https://localhost:8080/"
        },
        "id": "BjV4vXninhzb",
        "outputId": "7597849a-14fb-472b-eca8-b76710d2adc4"
      },
      "execution_count": 50,
      "outputs": [
        {
          "output_type": "execute_result",
          "data": {
            "text/plain": [
              "array([[0, 2],\n",
              "       [2, 0]])"
            ]
          },
          "metadata": {},
          "execution_count": 50
        }
      ]
    },
    {
      "cell_type": "code",
      "source": [],
      "metadata": {
        "id": "HggHBfGqn5EG"
      },
      "execution_count": null,
      "outputs": []
    }
  ]
}