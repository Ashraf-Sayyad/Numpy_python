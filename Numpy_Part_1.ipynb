{
  "nbformat": 4,
  "nbformat_minor": 0,
  "metadata": {
    "colab": {
      "provenance": []
    },
    "kernelspec": {
      "name": "python3",
      "display_name": "Python 3"
    },
    "language_info": {
      "name": "python"
    }
  },
  "cells": [
    {
      "cell_type": "markdown",
      "source": [
        "# Numpy_Part_1"
      ],
      "metadata": {
        "id": "VNI8EDnIfJ4w"
      }
    },
    {
      "cell_type": "code",
      "execution_count": null,
      "metadata": {
        "id": "bb5f01f5-4f36-4e90-a4f1-24b7d3889725"
      },
      "outputs": [],
      "source": [
        "import numpy as np"
      ]
    },
    {
      "cell_type": "code",
      "execution_count": null,
      "metadata": {
        "id": "f634285d-a871-49b9-b766-76d57a6f378a"
      },
      "outputs": [],
      "source": [
        "l = [1,2,3,4]"
      ]
    },
    {
      "cell_type": "code",
      "execution_count": null,
      "metadata": {
        "id": "6857265b-0124-4fec-aee0-74c0b0c105f7"
      },
      "outputs": [],
      "source": [
        "ar = np.array(l)"
      ]
    },
    {
      "cell_type": "code",
      "execution_count": null,
      "metadata": {
        "id": "7402cc20-1cc2-4433-9fef-ed47f71e85b0",
        "outputId": "e04a0277-6710-4d1b-df82-4af0bbd4eef4",
        "colab": {
          "base_uri": "https://localhost:8080/"
        }
      },
      "outputs": [
        {
          "output_type": "execute_result",
          "data": {
            "text/plain": [
              "array([1, 2, 3, 4])"
            ]
          },
          "metadata": {},
          "execution_count": 4
        }
      ],
      "source": [
        "ar"
      ]
    },
    {
      "cell_type": "code",
      "execution_count": null,
      "metadata": {
        "id": "18a6c69f-24e3-4614-88c3-5c5bfe62bbfc",
        "outputId": "bcf6a39d-f986-4b0c-bf99-37b88019f953",
        "colab": {
          "base_uri": "https://localhost:8080/"
        }
      },
      "outputs": [
        {
          "output_type": "execute_result",
          "data": {
            "text/plain": [
              "numpy.ndarray"
            ]
          },
          "metadata": {},
          "execution_count": 5
        }
      ],
      "source": [
        "type(ar)"
      ]
    },
    {
      "cell_type": "code",
      "execution_count": null,
      "metadata": {
        "id": "0b30a3c2-efd8-4f59-bc12-88eb44dee98e",
        "outputId": "8cfb68d4-8b89-4368-828c-5468db9939d2",
        "colab": {
          "base_uri": "https://localhost:8080/"
        }
      },
      "outputs": [
        {
          "output_type": "execute_result",
          "data": {
            "text/plain": [
              "array([[1, 2],\n",
              "       [3, 4]])"
            ]
          },
          "metadata": {},
          "execution_count": 6
        }
      ],
      "source": [
        "np.array([[1,2] ,[3,4]])"
      ]
    },
    {
      "cell_type": "code",
      "execution_count": null,
      "metadata": {
        "id": "79e702b8-dbc6-4548-80d0-734c8579de9e",
        "outputId": "6cd6aad2-ed7f-49b9-88a5-2bb5709e8a43",
        "colab": {
          "base_uri": "https://localhost:8080/"
        }
      },
      "outputs": [
        {
          "output_type": "execute_result",
          "data": {
            "text/plain": [
              "array([1, 2, 3, 4])"
            ]
          },
          "metadata": {},
          "execution_count": 7
        }
      ],
      "source": [
        "np.asarray(l)"
      ]
    },
    {
      "cell_type": "code",
      "execution_count": null,
      "metadata": {
        "id": "3915cb9b-f264-4495-a9c4-c25d18f64c60"
      },
      "outputs": [],
      "source": [
        "a= [2,3,4]"
      ]
    },
    {
      "cell_type": "code",
      "execution_count": null,
      "metadata": {
        "id": "31b88237-5e24-4154-9c64-916c0a9fd6c0",
        "outputId": "8c6f21a1-9264-4ceb-eab8-29c29de40d1a",
        "colab": {
          "base_uri": "https://localhost:8080/"
        }
      },
      "outputs": [
        {
          "output_type": "execute_result",
          "data": {
            "text/plain": [
              "array([2, 3, 4])"
            ]
          },
          "metadata": {},
          "execution_count": 9
        }
      ],
      "source": [
        "np.asanyarray(a)"
      ]
    },
    {
      "cell_type": "code",
      "execution_count": null,
      "metadata": {
        "id": "b6cddc4f-d960-4925-a553-623b0a8ff541"
      },
      "outputs": [],
      "source": [
        "b = np.matrix(l)"
      ]
    },
    {
      "cell_type": "code",
      "execution_count": null,
      "metadata": {
        "id": "7c9464fb-06a8-4c16-aebe-761f96979974",
        "outputId": "ebf8bd45-480e-42ab-b4d4-11b685e50488",
        "colab": {
          "base_uri": "https://localhost:8080/"
        }
      },
      "outputs": [
        {
          "output_type": "execute_result",
          "data": {
            "text/plain": [
              "matrix([[1, 2, 3, 4]])"
            ]
          },
          "metadata": {},
          "execution_count": 11
        }
      ],
      "source": [
        "b"
      ]
    },
    {
      "cell_type": "code",
      "execution_count": null,
      "metadata": {
        "id": "51cedef8-ff07-48cd-a1eb-35ac18f991c7",
        "outputId": "f97ad063-a236-442d-949f-e417b47a0df8",
        "colab": {
          "base_uri": "https://localhost:8080/"
        }
      },
      "outputs": [
        {
          "output_type": "execute_result",
          "data": {
            "text/plain": [
              "matrix([[1, 2, 3, 4]])"
            ]
          },
          "metadata": {},
          "execution_count": 12
        }
      ],
      "source": [
        "np.asanyarray(b)"
      ]
    },
    {
      "cell_type": "code",
      "execution_count": null,
      "metadata": {
        "id": "ad27ec1e-c010-4bb8-a278-6125a81fb91c"
      },
      "outputs": [],
      "source": [
        "a = np.array(l)"
      ]
    },
    {
      "cell_type": "code",
      "execution_count": null,
      "metadata": {
        "id": "3db65dc5-fa99-4f0a-89d7-1f6eaf775b05",
        "outputId": "657ea8cf-6ecc-460c-fd6d-977757d5929b",
        "colab": {
          "base_uri": "https://localhost:8080/"
        }
      },
      "outputs": [
        {
          "output_type": "execute_result",
          "data": {
            "text/plain": [
              "array([1, 2, 3, 4])"
            ]
          },
          "metadata": {},
          "execution_count": 14
        }
      ],
      "source": [
        "a\n"
      ]
    },
    {
      "cell_type": "code",
      "execution_count": null,
      "metadata": {
        "id": "ff3d2a1d-b052-4db3-99d6-a3501a75d027"
      },
      "outputs": [],
      "source": [
        "c = a"
      ]
    },
    {
      "cell_type": "code",
      "execution_count": null,
      "metadata": {
        "id": "642648bb-33b0-4c5d-a0bc-b1784a6a5771",
        "outputId": "a4e2ee84-65d5-4853-cc5e-a0f41300ddb3",
        "colab": {
          "base_uri": "https://localhost:8080/"
        }
      },
      "outputs": [
        {
          "output_type": "execute_result",
          "data": {
            "text/plain": [
              "array([1, 2, 3, 4])"
            ]
          },
          "metadata": {},
          "execution_count": 16
        }
      ],
      "source": [
        "c"
      ]
    },
    {
      "cell_type": "code",
      "execution_count": null,
      "metadata": {
        "id": "2dee9b26-17af-4401-bf74-a48888d973c8",
        "outputId": "19c253ba-e379-497f-e553-bc62f7814f29",
        "colab": {
          "base_uri": "https://localhost:8080/"
        }
      },
      "outputs": [
        {
          "output_type": "execute_result",
          "data": {
            "text/plain": [
              "array([1, 2, 3, 4])"
            ]
          },
          "metadata": {},
          "execution_count": 17
        }
      ],
      "source": [
        "a"
      ]
    },
    {
      "cell_type": "code",
      "execution_count": null,
      "metadata": {
        "id": "dd679803-09e1-453a-b908-590fe870373a"
      },
      "outputs": [],
      "source": [
        "c[0] = 100"
      ]
    },
    {
      "cell_type": "code",
      "execution_count": null,
      "metadata": {
        "id": "d0cd8ae4-1236-44d5-8b46-2adbecfaa10e",
        "outputId": "09f6d75a-0216-4ab5-d796-c6558b9ce496",
        "colab": {
          "base_uri": "https://localhost:8080/"
        }
      },
      "outputs": [
        {
          "output_type": "execute_result",
          "data": {
            "text/plain": [
              "array([100,   2,   3,   4])"
            ]
          },
          "metadata": {},
          "execution_count": 19
        }
      ],
      "source": [
        "c"
      ]
    },
    {
      "cell_type": "code",
      "execution_count": null,
      "metadata": {
        "id": "97a614a1-8294-4fdc-b987-11f7da36d097",
        "outputId": "fa541e1c-49f3-4def-a16a-0bdc2d33ab75",
        "colab": {
          "base_uri": "https://localhost:8080/"
        }
      },
      "outputs": [
        {
          "output_type": "execute_result",
          "data": {
            "text/plain": [
              "array([100,   2,   3,   4])"
            ]
          },
          "metadata": {},
          "execution_count": 20
        }
      ],
      "source": [
        "a"
      ]
    },
    {
      "cell_type": "code",
      "execution_count": null,
      "metadata": {
        "id": "6017d819-96e2-4627-aa03-92899e0683d1"
      },
      "outputs": [],
      "source": [
        "d = np.copy(a)"
      ]
    },
    {
      "cell_type": "code",
      "execution_count": null,
      "metadata": {
        "id": "a13b8fe3-a407-416d-841f-713485253d3a",
        "outputId": "e99935d0-a3c7-4a7b-c1c6-cf960f628ffd",
        "colab": {
          "base_uri": "https://localhost:8080/"
        }
      },
      "outputs": [
        {
          "output_type": "execute_result",
          "data": {
            "text/plain": [
              "array([100,   2,   3,   4])"
            ]
          },
          "metadata": {},
          "execution_count": 22
        }
      ],
      "source": [
        "d"
      ]
    },
    {
      "cell_type": "code",
      "execution_count": null,
      "metadata": {
        "id": "74102a9e-8530-4897-a8c4-7a71920d90c6",
        "outputId": "5f1e4ac8-05de-4168-ece7-37df7719ad22",
        "colab": {
          "base_uri": "https://localhost:8080/"
        }
      },
      "outputs": [
        {
          "output_type": "execute_result",
          "data": {
            "text/plain": [
              "array([100,   2,   3,   4])"
            ]
          },
          "metadata": {},
          "execution_count": 23
        }
      ],
      "source": [
        "a"
      ]
    },
    {
      "cell_type": "code",
      "execution_count": null,
      "metadata": {
        "id": "a38ddfd1-82f7-4b34-94aa-99aa36206e4e"
      },
      "outputs": [],
      "source": [
        "a[1] = 400"
      ]
    },
    {
      "cell_type": "code",
      "execution_count": null,
      "metadata": {
        "id": "7d685d0f-ee2f-4e31-9380-401958edf2cd",
        "outputId": "44e81da3-4998-4537-99e4-b0213b28d1ee",
        "colab": {
          "base_uri": "https://localhost:8080/"
        }
      },
      "outputs": [
        {
          "output_type": "execute_result",
          "data": {
            "text/plain": [
              "array([100, 400,   3,   4])"
            ]
          },
          "metadata": {},
          "execution_count": 25
        }
      ],
      "source": [
        "a"
      ]
    },
    {
      "cell_type": "code",
      "execution_count": null,
      "metadata": {
        "id": "1ac4a42b-0d23-4406-ab20-fd96f2851abe",
        "outputId": "3500805b-fe35-4d46-8015-7496ad8792e2",
        "colab": {
          "base_uri": "https://localhost:8080/"
        }
      },
      "outputs": [
        {
          "output_type": "execute_result",
          "data": {
            "text/plain": [
              "array([100,   2,   3,   4])"
            ]
          },
          "metadata": {},
          "execution_count": 26
        }
      ],
      "source": [
        "d"
      ]
    },
    {
      "cell_type": "code",
      "source": [
        "c"
      ],
      "metadata": {
        "id": "sjXq59tlTXGf",
        "outputId": "4007933f-184d-4ff6-9899-509d32e1b1a0",
        "colab": {
          "base_uri": "https://localhost:8080/"
        }
      },
      "execution_count": null,
      "outputs": [
        {
          "output_type": "execute_result",
          "data": {
            "text/plain": [
              "array([100, 400,   3,   4])"
            ]
          },
          "metadata": {},
          "execution_count": 27
        }
      ]
    },
    {
      "cell_type": "code",
      "execution_count": null,
      "metadata": {
        "id": "ecb07af1-ae2b-4e17-85d0-11260b35f4c1",
        "outputId": "db75573e-f6bc-41e1-92b2-ea4a41e68045",
        "colab": {
          "base_uri": "https://localhost:8080/"
        }
      },
      "outputs": [
        {
          "output_type": "execute_result",
          "data": {
            "text/plain": [
              "array([[ True, False, False],\n",
              "       [False,  True, False],\n",
              "       [False, False,  True]])"
            ]
          },
          "metadata": {},
          "execution_count": 28
        }
      ],
      "source": [
        "np.fromfunction(lambda i, j : i==j , (3,3))"
      ]
    },
    {
      "cell_type": "code",
      "execution_count": null,
      "metadata": {
        "id": "3ddba112-515e-406e-bb4a-30630a81e8a9",
        "outputId": "88edeaa5-005d-4ef4-cf71-884b6563b74a",
        "colab": {
          "base_uri": "https://localhost:8080/"
        }
      },
      "outputs": [
        {
          "output_type": "execute_result",
          "data": {
            "text/plain": [
              "array([[0., 0., 0.],\n",
              "       [0., 1., 2.],\n",
              "       [0., 2., 4.]])"
            ]
          },
          "metadata": {},
          "execution_count": 29
        }
      ],
      "source": [
        "np.fromfunction(lambda i, j : i*j , (3,3))"
      ]
    },
    {
      "cell_type": "code",
      "execution_count": null,
      "metadata": {
        "id": "f7920ace-5c90-45a6-9e84-0de6c0c2fee8"
      },
      "outputs": [],
      "source": [
        "iterable = (i*i for i in range(5))"
      ]
    },
    {
      "cell_type": "code",
      "execution_count": null,
      "metadata": {
        "id": "2625a660-2f8d-4620-8e3c-59dc58137077",
        "outputId": "349ef0e8-c01e-4751-e645-a4aa50cda500",
        "colab": {
          "base_uri": "https://localhost:8080/"
        }
      },
      "outputs": [
        {
          "output_type": "execute_result",
          "data": {
            "text/plain": [
              "array([ 0.,  1.,  4.,  9., 16.])"
            ]
          },
          "metadata": {},
          "execution_count": 31
        }
      ],
      "source": [
        "np.fromiter(iterable,float)"
      ]
    },
    {
      "cell_type": "code",
      "execution_count": null,
      "metadata": {
        "id": "c2478390-df95-48b1-a255-9fdc9a65b24b",
        "outputId": "92439be4-c822-4fe8-ee16-e8c0b7a62386",
        "colab": {
          "base_uri": "https://localhost:8080/"
        }
      },
      "outputs": [
        {
          "output_type": "execute_result",
          "data": {
            "text/plain": [
              "array([234., 234.])"
            ]
          },
          "metadata": {},
          "execution_count": 32
        }
      ],
      "source": [
        "np.fromstring('234 234' , sep= ' ')"
      ]
    },
    {
      "cell_type": "code",
      "execution_count": null,
      "metadata": {
        "id": "fbf7e044-35f2-4279-88f1-0c72e4922a72",
        "outputId": "062fbab0-111e-4460-fbea-07004cf7271d",
        "colab": {
          "base_uri": "https://localhost:8080/"
        }
      },
      "outputs": [
        {
          "output_type": "execute_result",
          "data": {
            "text/plain": [
              "array([4., 5.])"
            ]
          },
          "metadata": {},
          "execution_count": 33
        }
      ],
      "source": [
        "np.fromstring('4,5' , sep= ',')"
      ]
    },
    {
      "cell_type": "code",
      "execution_count": null,
      "metadata": {
        "id": "b99a8507-2782-4bfd-9bd2-24720366d9eb"
      },
      "outputs": [],
      "source": [
        "#Numpy - Data Types."
      ]
    },
    {
      "cell_type": "code",
      "execution_count": null,
      "metadata": {
        "id": "2413012c-1feb-49fd-88d5-ba14dd5fab8d"
      },
      "outputs": [],
      "source": [
        "l = [2,3,4,5,6]"
      ]
    },
    {
      "cell_type": "code",
      "execution_count": null,
      "metadata": {
        "id": "bf598728-6398-4991-baa6-18a0b34b48f6"
      },
      "outputs": [],
      "source": [
        "ar = np.array(l)"
      ]
    },
    {
      "cell_type": "code",
      "execution_count": null,
      "metadata": {
        "id": "57fe1427-583e-48ca-adc8-c8beb5641931",
        "outputId": "b118bd13-9d6e-4ba8-be4f-b4bb884f3bf0",
        "colab": {
          "base_uri": "https://localhost:8080/"
        }
      },
      "outputs": [
        {
          "output_type": "execute_result",
          "data": {
            "text/plain": [
              "array([2, 3, 4, 5, 6])"
            ]
          },
          "metadata": {},
          "execution_count": 37
        }
      ],
      "source": [
        "ar"
      ]
    },
    {
      "cell_type": "code",
      "execution_count": null,
      "metadata": {
        "id": "aa9b5aa2-6c7a-4805-9130-b75a6456991c",
        "outputId": "6211d6aa-f0fd-429d-8670-3b5a91da49cf",
        "colab": {
          "base_uri": "https://localhost:8080/"
        }
      },
      "outputs": [
        {
          "output_type": "execute_result",
          "data": {
            "text/plain": [
              "1"
            ]
          },
          "metadata": {},
          "execution_count": 38
        }
      ],
      "source": [
        "ar.ndim"
      ]
    },
    {
      "cell_type": "code",
      "execution_count": null,
      "metadata": {
        "id": "b2e28e1a-69f2-49c2-9390-1d99f735b26d"
      },
      "outputs": [],
      "source": [
        "ar2 = np.array([[1,2,3,4] , [2,3,4,5]])"
      ]
    },
    {
      "cell_type": "code",
      "execution_count": null,
      "metadata": {
        "id": "546a23ff-27a7-4cb5-bef8-c431d8505e6d",
        "outputId": "bad85558-04a7-447e-8d08-b74726fb294c",
        "colab": {
          "base_uri": "https://localhost:8080/"
        }
      },
      "outputs": [
        {
          "output_type": "execute_result",
          "data": {
            "text/plain": [
              "array([[1, 2, 3, 4],\n",
              "       [2, 3, 4, 5]])"
            ]
          },
          "metadata": {},
          "execution_count": 40
        }
      ],
      "source": [
        "ar2"
      ]
    },
    {
      "cell_type": "code",
      "execution_count": null,
      "metadata": {
        "id": "a69d96c2-7345-483e-9063-127bbdab0a37",
        "outputId": "4cef2cc7-6d15-4aab-ebb3-d507dd20df3c",
        "colab": {
          "base_uri": "https://localhost:8080/"
        }
      },
      "outputs": [
        {
          "output_type": "execute_result",
          "data": {
            "text/plain": [
              "2"
            ]
          },
          "metadata": {},
          "execution_count": 41
        }
      ],
      "source": [
        "ar2.ndim"
      ]
    },
    {
      "cell_type": "code",
      "execution_count": null,
      "metadata": {
        "id": "fda20167-4f95-42f9-8846-8c2f0726287c",
        "outputId": "751430bb-fc3d-4b3a-f263-08cb488c8ca3",
        "colab": {
          "base_uri": "https://localhost:8080/"
        }
      },
      "outputs": [
        {
          "output_type": "execute_result",
          "data": {
            "text/plain": [
              "5"
            ]
          },
          "metadata": {},
          "execution_count": 42
        }
      ],
      "source": [
        "ar.size"
      ]
    },
    {
      "cell_type": "code",
      "execution_count": null,
      "metadata": {
        "id": "fd802008-0428-48b2-b3b4-bff11f059298",
        "outputId": "2ce878cb-ba26-48fd-cda6-446003d4a3e8",
        "colab": {
          "base_uri": "https://localhost:8080/"
        }
      },
      "outputs": [
        {
          "output_type": "execute_result",
          "data": {
            "text/plain": [
              "8"
            ]
          },
          "metadata": {},
          "execution_count": 43
        }
      ],
      "source": [
        "ar2.size"
      ]
    },
    {
      "cell_type": "code",
      "execution_count": null,
      "metadata": {
        "id": "04aae56c-ed8c-4538-85c8-d8ecf2f5d940",
        "outputId": "5546e62a-b069-4902-dbd5-775cfbfd6509",
        "colab": {
          "base_uri": "https://localhost:8080/"
        }
      },
      "outputs": [
        {
          "output_type": "execute_result",
          "data": {
            "text/plain": [
              "array([2, 3, 4, 5, 6])"
            ]
          },
          "metadata": {},
          "execution_count": 44
        }
      ],
      "source": [
        "ar"
      ]
    },
    {
      "cell_type": "code",
      "execution_count": null,
      "metadata": {
        "id": "aebe1f2a-f153-4d9d-b09e-04f41ecbf987",
        "outputId": "973bed3a-fe8d-424b-ec9d-8a9f0ba09d0d",
        "colab": {
          "base_uri": "https://localhost:8080/"
        }
      },
      "outputs": [
        {
          "output_type": "execute_result",
          "data": {
            "text/plain": [
              "array([[1, 2, 3, 4],\n",
              "       [2, 3, 4, 5]])"
            ]
          },
          "metadata": {},
          "execution_count": 45
        }
      ],
      "source": [
        "ar2"
      ]
    },
    {
      "cell_type": "code",
      "execution_count": null,
      "metadata": {
        "id": "6c9e6eb4-7044-4c70-9847-c7de69c71881",
        "outputId": "628f1170-de06-4230-bf6b-5016b760cac7",
        "colab": {
          "base_uri": "https://localhost:8080/"
        }
      },
      "outputs": [
        {
          "output_type": "execute_result",
          "data": {
            "text/plain": [
              "(5,)"
            ]
          },
          "metadata": {},
          "execution_count": 46
        }
      ],
      "source": [
        "ar.shape"
      ]
    },
    {
      "cell_type": "code",
      "execution_count": null,
      "metadata": {
        "id": "467ad9d2-e87e-4ba5-8701-2687fad85555",
        "outputId": "194a8111-82bf-4ec1-97a6-73787798a606",
        "colab": {
          "base_uri": "https://localhost:8080/"
        }
      },
      "outputs": [
        {
          "output_type": "execute_result",
          "data": {
            "text/plain": [
              "(2, 4)"
            ]
          },
          "metadata": {},
          "execution_count": 47
        }
      ],
      "source": [
        "ar2.shape"
      ]
    },
    {
      "cell_type": "code",
      "execution_count": null,
      "metadata": {
        "id": "297867d1-f7c6-499b-b504-6efd5a225ebb",
        "outputId": "fbd317e9-7689-4892-cf40-799783bfb41a",
        "colab": {
          "base_uri": "https://localhost:8080/"
        }
      },
      "outputs": [
        {
          "output_type": "execute_result",
          "data": {
            "text/plain": [
              "dtype('int64')"
            ]
          },
          "metadata": {},
          "execution_count": 48
        }
      ],
      "source": [
        "ar.dtype"
      ]
    },
    {
      "cell_type": "code",
      "execution_count": null,
      "metadata": {
        "id": "69408639-5c50-42c1-b860-1bd7d07ad121",
        "outputId": "c294ed9e-2138-48a8-b920-aec8c51f7963",
        "colab": {
          "base_uri": "https://localhost:8080/"
        }
      },
      "outputs": [
        {
          "output_type": "execute_result",
          "data": {
            "text/plain": [
              "dtype('int64')"
            ]
          },
          "metadata": {},
          "execution_count": 49
        }
      ],
      "source": [
        "ar2.dtype\n"
      ]
    },
    {
      "cell_type": "code",
      "execution_count": null,
      "metadata": {
        "id": "f854481b-8b0b-4f23-8485-51996e72962b"
      },
      "outputs": [],
      "source": [
        "ar22 = np.array([(1.4,45,45) , (23,45,66)])"
      ]
    },
    {
      "cell_type": "code",
      "execution_count": null,
      "metadata": {
        "id": "d7974c33-ad51-4a3f-8b73-566af19d49b7",
        "outputId": "5a5f32e4-4b0c-43b7-94ec-ca8777bec616",
        "colab": {
          "base_uri": "https://localhost:8080/"
        }
      },
      "outputs": [
        {
          "output_type": "execute_result",
          "data": {
            "text/plain": [
              "array([[ 1.4, 45. , 45. ],\n",
              "       [23. , 45. , 66. ]])"
            ]
          },
          "metadata": {},
          "execution_count": 51
        }
      ],
      "source": [
        "ar22"
      ]
    },
    {
      "cell_type": "code",
      "execution_count": null,
      "metadata": {
        "id": "70214aa5-6876-4f7d-85be-5dbd4485c514",
        "outputId": "5cd967c5-f8a3-4448-8a13-651112985590",
        "colab": {
          "base_uri": "https://localhost:8080/"
        }
      },
      "outputs": [
        {
          "output_type": "execute_result",
          "data": {
            "text/plain": [
              "dtype('float64')"
            ]
          },
          "metadata": {},
          "execution_count": 52
        }
      ],
      "source": [
        "ar22.dtype"
      ]
    },
    {
      "cell_type": "code",
      "execution_count": null,
      "metadata": {
        "id": "374d8f0f-ea8e-42a6-85d8-aa477cfdc3ba",
        "outputId": "301e38b9-f9b0-4dbd-aac9-2acea0880717",
        "colab": {
          "base_uri": "https://localhost:8080/"
        }
      },
      "outputs": [
        {
          "output_type": "execute_result",
          "data": {
            "text/plain": [
              "[0, 1, 2, 3, 4]"
            ]
          },
          "metadata": {},
          "execution_count": 53
        }
      ],
      "source": [
        "list(range(5))"
      ]
    },
    {
      "cell_type": "code",
      "execution_count": null,
      "metadata": {
        "id": "e490c758-c9a1-46a6-b23a-e3b54f155fe9",
        "outputId": "0959d737-b991-40ff-f233-9835aa09c83d",
        "colab": {
          "base_uri": "https://localhost:8080/",
          "height": 160
        }
      },
      "outputs": [
        {
          "output_type": "error",
          "ename": "TypeError",
          "evalue": "'float' object cannot be interpreted as an integer",
          "traceback": [
            "\u001b[0;31m---------------------------------------------------------------------------\u001b[0m",
            "\u001b[0;31mTypeError\u001b[0m                                 Traceback (most recent call last)",
            "\u001b[0;32m<ipython-input-54-cedc494b172a>\u001b[0m in \u001b[0;36m<cell line: 1>\u001b[0;34m()\u001b[0m\n\u001b[0;32m----> 1\u001b[0;31m \u001b[0mlist\u001b[0m\u001b[0;34m(\u001b[0m\u001b[0mrange\u001b[0m\u001b[0;34m(\u001b[0m\u001b[0;36m0.1\u001b[0m \u001b[0;34m,\u001b[0m\u001b[0;36m5\u001b[0m\u001b[0;34m)\u001b[0m\u001b[0;34m)\u001b[0m\u001b[0;34m\u001b[0m\u001b[0;34m\u001b[0m\u001b[0m\n\u001b[0m",
            "\u001b[0;31mTypeError\u001b[0m: 'float' object cannot be interpreted as an integer"
          ]
        }
      ],
      "source": [
        "list(range(0.1 ,5))"
      ]
    },
    {
      "cell_type": "code",
      "execution_count": null,
      "metadata": {
        "id": "05eba3b5-9bc9-4e65-a96a-bbd458c50253",
        "outputId": "25493781-c2a6-4883-80f5-10cdea5ca2cb",
        "colab": {
          "base_uri": "https://localhost:8080/"
        }
      },
      "outputs": [
        {
          "output_type": "execute_result",
          "data": {
            "text/plain": [
              "array([2.3, 3.3, 4.3, 5.3])"
            ]
          },
          "metadata": {},
          "execution_count": 56
        }
      ],
      "source": [
        "np.arange(2.3,5.6)"
      ]
    },
    {
      "cell_type": "code",
      "source": [
        "np.arange(2.3,5.6,.3)"
      ],
      "metadata": {
        "id": "2ZY2ysspWMaA",
        "outputId": "9acd898d-ddac-4255-8766-334d771bf4bb",
        "colab": {
          "base_uri": "https://localhost:8080/"
        }
      },
      "execution_count": null,
      "outputs": [
        {
          "output_type": "execute_result",
          "data": {
            "text/plain": [
              "array([2.3, 2.6, 2.9, 3.2, 3.5, 3.8, 4.1, 4.4, 4.7, 5. , 5.3])"
            ]
          },
          "metadata": {},
          "execution_count": 57
        }
      ]
    },
    {
      "cell_type": "code",
      "execution_count": null,
      "metadata": {
        "id": "9920f6ad-81d1-476a-912a-f970e844f12a",
        "outputId": "819e51f3-6bd0-4fa8-be6b-162e6aecd7ae",
        "colab": {
          "base_uri": "https://localhost:8080/"
        }
      },
      "outputs": [
        {
          "output_type": "execute_result",
          "data": {
            "text/plain": [
              "[2.3,\n",
              " 2.5999999999999996,\n",
              " 2.8999999999999995,\n",
              " 3.1999999999999993,\n",
              " 3.499999999999999,\n",
              " 3.799999999999999,\n",
              " 4.099999999999999,\n",
              " 4.399999999999999,\n",
              " 4.699999999999998,\n",
              " 4.999999999999998,\n",
              " 5.299999999999998]"
            ]
          },
          "metadata": {},
          "execution_count": 58
        }
      ],
      "source": [
        "list(np.arange(2.3,5.6,.3))"
      ]
    },
    {
      "cell_type": "code",
      "execution_count": null,
      "metadata": {
        "id": "69fd7045-e1f9-4832-80f3-5428d4c6f507",
        "outputId": "19d64fa6-b1fc-49e4-c378-90a1c90bbd20",
        "colab": {
          "base_uri": "https://localhost:8080/"
        }
      },
      "outputs": [
        {
          "output_type": "execute_result",
          "data": {
            "text/plain": [
              "array([1.        , 1.44444444, 1.88888889, 2.33333333, 2.77777778,\n",
              "       3.22222222, 3.66666667, 4.11111111, 4.55555556, 5.        ])"
            ]
          },
          "metadata": {},
          "execution_count": 59
        }
      ],
      "source": [
        "np.linspace(1,5,10)"
      ]
    },
    {
      "cell_type": "code",
      "execution_count": null,
      "metadata": {
        "id": "9840e771-f84c-43a4-bc1e-c948bd5545f7",
        "outputId": "17ab386a-9cb2-4347-9924-20688701054d",
        "colab": {
          "base_uri": "https://localhost:8080/"
        }
      },
      "outputs": [
        {
          "output_type": "execute_result",
          "data": {
            "text/plain": [
              "array([0., 0., 0., 0., 0.])"
            ]
          },
          "metadata": {},
          "execution_count": 60
        }
      ],
      "source": [
        "np.zeros(5)"
      ]
    },
    {
      "cell_type": "code",
      "execution_count": null,
      "metadata": {
        "id": "664e6162-ef45-4957-81e5-df238ff4a02d",
        "outputId": "174239b1-0791-4c85-ad3c-a0117bef137a",
        "colab": {
          "base_uri": "https://localhost:8080/"
        }
      },
      "outputs": [
        {
          "output_type": "execute_result",
          "data": {
            "text/plain": [
              "array([[0., 0., 0., 0.],\n",
              "       [0., 0., 0., 0.],\n",
              "       [0., 0., 0., 0.]])"
            ]
          },
          "metadata": {},
          "execution_count": 61
        }
      ],
      "source": [
        "np.zeros((3,4))"
      ]
    },
    {
      "cell_type": "code",
      "execution_count": null,
      "metadata": {
        "id": "8bccecd9-e2bd-45df-9a23-282ba8140ea9",
        "outputId": "1e6eaea0-3386-41cd-9626-71a14cff9f75",
        "colab": {
          "base_uri": "https://localhost:8080/"
        }
      },
      "outputs": [
        {
          "output_type": "execute_result",
          "data": {
            "text/plain": [
              "array([[[0., 0.],\n",
              "        [0., 0.],\n",
              "        [0., 0.],\n",
              "        [0., 0.]],\n",
              "\n",
              "       [[0., 0.],\n",
              "        [0., 0.],\n",
              "        [0., 0.],\n",
              "        [0., 0.]],\n",
              "\n",
              "       [[0., 0.],\n",
              "        [0., 0.],\n",
              "        [0., 0.],\n",
              "        [0., 0.]]])"
            ]
          },
          "metadata": {},
          "execution_count": 62
        }
      ],
      "source": [
        "np.zeros((3,4,2))"
      ]
    },
    {
      "cell_type": "code",
      "execution_count": null,
      "metadata": {
        "id": "8c7ec3ec-414b-4b38-9335-29b4f222bdc7"
      },
      "outputs": [],
      "source": [
        "ar4 = np.zeros((3,4,2,3))"
      ]
    },
    {
      "cell_type": "code",
      "execution_count": null,
      "metadata": {
        "id": "186260c6-2a16-4489-a608-655340fddc73",
        "outputId": "7b7e3be8-0acc-4675-9742-132d4330d176",
        "colab": {
          "base_uri": "https://localhost:8080/"
        }
      },
      "outputs": [
        {
          "output_type": "execute_result",
          "data": {
            "text/plain": [
              "4"
            ]
          },
          "metadata": {},
          "execution_count": 64
        }
      ],
      "source": [
        "ar4.ndim\n"
      ]
    },
    {
      "cell_type": "code",
      "execution_count": null,
      "metadata": {
        "id": "5012dc58-c2bb-4ccf-b454-329c3c1cdcd3",
        "outputId": "7b56cde2-1662-44fa-bff1-46fee9c97597",
        "colab": {
          "base_uri": "https://localhost:8080/"
        }
      },
      "outputs": [
        {
          "output_type": "execute_result",
          "data": {
            "text/plain": [
              "array([[[[0., 0., 0.],\n",
              "         [0., 0., 0.]],\n",
              "\n",
              "        [[0., 0., 0.],\n",
              "         [0., 0., 0.]],\n",
              "\n",
              "        [[0., 0., 0.],\n",
              "         [0., 0., 0.]],\n",
              "\n",
              "        [[0., 0., 0.],\n",
              "         [0., 0., 0.]]],\n",
              "\n",
              "\n",
              "       [[[0., 0., 0.],\n",
              "         [0., 0., 0.]],\n",
              "\n",
              "        [[0., 0., 0.],\n",
              "         [0., 0., 0.]],\n",
              "\n",
              "        [[0., 0., 0.],\n",
              "         [0., 0., 0.]],\n",
              "\n",
              "        [[0., 0., 0.],\n",
              "         [0., 0., 0.]]],\n",
              "\n",
              "\n",
              "       [[[0., 0., 0.],\n",
              "         [0., 0., 0.]],\n",
              "\n",
              "        [[0., 0., 0.],\n",
              "         [0., 0., 0.]],\n",
              "\n",
              "        [[0., 0., 0.],\n",
              "         [0., 0., 0.]],\n",
              "\n",
              "        [[0., 0., 0.],\n",
              "         [0., 0., 0.]]]])"
            ]
          },
          "metadata": {},
          "execution_count": 65
        }
      ],
      "source": [
        "ar4"
      ]
    },
    {
      "cell_type": "code",
      "execution_count": null,
      "metadata": {
        "id": "31e0cd68-cf95-4d5e-b9ab-d0ace97bc3c7",
        "outputId": "909cda4c-961c-4109-a05f-fa08d5e9502e",
        "colab": {
          "base_uri": "https://localhost:8080/"
        }
      },
      "outputs": [
        {
          "output_type": "execute_result",
          "data": {
            "text/plain": [
              "array([1., 1., 1., 1.])"
            ]
          },
          "metadata": {},
          "execution_count": 66
        }
      ],
      "source": [
        "np.ones(4)"
      ]
    },
    {
      "cell_type": "code",
      "execution_count": null,
      "metadata": {
        "id": "b741630a-5c7b-48d4-9964-abd706bcb1ac",
        "outputId": "5989ae93-d52e-4d44-9733-1da69ea11406",
        "colab": {
          "base_uri": "https://localhost:8080/"
        }
      },
      "outputs": [
        {
          "output_type": "execute_result",
          "data": {
            "text/plain": [
              "array([[1., 1., 1.],\n",
              "       [1., 1., 1.]])"
            ]
          },
          "metadata": {},
          "execution_count": 67
        }
      ],
      "source": [
        "np.ones((2,3))"
      ]
    },
    {
      "cell_type": "code",
      "execution_count": null,
      "metadata": {
        "id": "3bce7a48-5228-4d73-af2d-bea6912fe0f7"
      },
      "outputs": [],
      "source": [
        "on =np.ones((2,3,2))"
      ]
    },
    {
      "cell_type": "code",
      "execution_count": null,
      "metadata": {
        "id": "2f752447-cfed-44b9-b77e-08c29d2b1ab3",
        "outputId": "dba98ffd-8a61-49a7-963c-a8a032d8ba34",
        "colab": {
          "base_uri": "https://localhost:8080/"
        }
      },
      "outputs": [
        {
          "output_type": "execute_result",
          "data": {
            "text/plain": [
              "array([[[6., 6.],\n",
              "        [6., 6.],\n",
              "        [6., 6.]],\n",
              "\n",
              "       [[6., 6.],\n",
              "        [6., 6.],\n",
              "        [6., 6.]]])"
            ]
          },
          "metadata": {},
          "execution_count": 69
        }
      ],
      "source": [
        "on + 5\n"
      ]
    },
    {
      "cell_type": "code",
      "execution_count": null,
      "metadata": {
        "id": "5a06e023-b4be-42bb-b3b5-fcf134ee14e7",
        "outputId": "cb73c012-cc80-48d2-e362-62e246ce20c2",
        "colab": {
          "base_uri": "https://localhost:8080/"
        }
      },
      "outputs": [
        {
          "output_type": "execute_result",
          "data": {
            "text/plain": [
              "array([[[4., 4.],\n",
              "        [4., 4.],\n",
              "        [4., 4.]],\n",
              "\n",
              "       [[4., 4.],\n",
              "        [4., 4.],\n",
              "        [4., 4.]]])"
            ]
          },
          "metadata": {},
          "execution_count": 70
        }
      ],
      "source": [
        "on *4\n"
      ]
    },
    {
      "cell_type": "code",
      "execution_count": null,
      "metadata": {
        "id": "9d09ebdb-af46-4b2d-b830-65dade59a6d7",
        "outputId": "6bd97549-bb66-46ae-a06c-c97deeb24103",
        "colab": {
          "base_uri": "https://localhost:8080/"
        }
      },
      "outputs": [
        {
          "output_type": "execute_result",
          "data": {
            "text/plain": [
              "array([[0., 0., 0., 1., 1., 1.],\n",
              "       [2., 2., 2., 0., 1., 2.],\n",
              "       [0., 1., 2., 0., 1., 2.]])"
            ]
          },
          "metadata": {},
          "execution_count": 71
        }
      ],
      "source": [
        "np.empty((3,6))"
      ]
    },
    {
      "cell_type": "code",
      "execution_count": null,
      "metadata": {
        "id": "d96a21e9-9536-48c2-abb1-8baf5122e228",
        "outputId": "5ea9e6e6-c296-4b35-cc09-010961a65dc4",
        "colab": {
          "base_uri": "https://localhost:8080/"
        }
      },
      "outputs": [
        {
          "output_type": "execute_result",
          "data": {
            "text/plain": [
              "array([[1., 0., 0., 0.],\n",
              "       [0., 1., 0., 0.],\n",
              "       [0., 0., 1., 0.],\n",
              "       [0., 0., 0., 1.]])"
            ]
          },
          "metadata": {},
          "execution_count": 72
        }
      ],
      "source": [
        "np.eye(4)"
      ]
    },
    {
      "cell_type": "code",
      "execution_count": null,
      "metadata": {
        "id": "e47af07d-7951-4606-a1a3-1f41c0a07199",
        "outputId": "b2caef0a-d988-428b-9e08-6c78adf6da70",
        "colab": {
          "base_uri": "https://localhost:8080/"
        }
      },
      "outputs": [
        {
          "output_type": "execute_result",
          "data": {
            "text/plain": [
              "array([2.        , 2.10526316, 2.21052632, 2.31578947, 2.42105263,\n",
              "       2.52631579, 2.63157895, 2.73684211, 2.84210526, 2.94736842,\n",
              "       3.05263158, 3.15789474, 3.26315789, 3.36842105, 3.47368421,\n",
              "       3.57894737, 3.68421053, 3.78947368, 3.89473684, 4.        ])"
            ]
          },
          "metadata": {},
          "execution_count": 73
        }
      ],
      "source": [
        "np.linspace(2,4 , 20)"
      ]
    },
    {
      "cell_type": "code",
      "execution_count": null,
      "metadata": {
        "id": "4d88d65f-7dd4-4873-932b-7b820ec6df59",
        "outputId": "93f2d006-e11d-4779-fd0d-f6b6810c701b",
        "colab": {
          "base_uri": "https://localhost:8080/"
        }
      },
      "outputs": [
        {
          "output_type": "execute_result",
          "data": {
            "text/plain": [
              "array([ 4.        ,  5.0396842 ,  6.34960421,  8.        , 10.0793684 ,\n",
              "       12.69920842, 16.        , 20.1587368 , 25.39841683, 32.        ])"
            ]
          },
          "metadata": {},
          "execution_count": 74
        }
      ],
      "source": [
        "np.logspace(2,5 , 10, base = 2)"
      ]
    },
    {
      "cell_type": "code",
      "source": [
        "np.logspace(2,5 , 10, base = 10)"
      ],
      "metadata": {
        "id": "OCkxjdPjYrGt",
        "outputId": "1baf7218-1c65-4971-dd2a-bf555d1501cb",
        "colab": {
          "base_uri": "https://localhost:8080/"
        }
      },
      "execution_count": null,
      "outputs": [
        {
          "output_type": "execute_result",
          "data": {
            "text/plain": [
              "array([   100.        ,    215.443469  ,    464.15888336,   1000.        ,\n",
              "         2154.43469003,   4641.58883361,  10000.        ,  21544.34690032,\n",
              "        46415.88833613, 100000.        ])"
            ]
          },
          "metadata": {},
          "execution_count": 75
        }
      ]
    },
    {
      "cell_type": "code",
      "source": [
        "np.logspace(2,5 , 10)"
      ],
      "metadata": {
        "id": "JZafyIA2YrJb",
        "outputId": "96151189-1c02-4926-eec6-bb23b72a2f48",
        "colab": {
          "base_uri": "https://localhost:8080/"
        }
      },
      "execution_count": null,
      "outputs": [
        {
          "output_type": "execute_result",
          "data": {
            "text/plain": [
              "array([   100.        ,    215.443469  ,    464.15888336,   1000.        ,\n",
              "         2154.43469003,   4641.58883361,  10000.        ,  21544.34690032,\n",
              "        46415.88833613, 100000.        ])"
            ]
          },
          "metadata": {},
          "execution_count": 76
        }
      ]
    },
    {
      "cell_type": "code",
      "execution_count": null,
      "metadata": {
        "id": "aee8101d-4b08-41f6-89c6-bc73c8c54e3a"
      },
      "outputs": [],
      "source": [
        "arr = np.random.randn(3,4)"
      ]
    },
    {
      "cell_type": "code",
      "source": [
        "np.random.randn(3,4)"
      ],
      "metadata": {
        "id": "PYcQSc2FZO_5",
        "outputId": "fa2bd4b0-bf26-4e36-b60e-c5c8bad98beb",
        "colab": {
          "base_uri": "https://localhost:8080/"
        }
      },
      "execution_count": null,
      "outputs": [
        {
          "output_type": "execute_result",
          "data": {
            "text/plain": [
              "array([[ 0.77908754,  0.82238336,  1.52438804, -1.46169166],\n",
              "       [ 1.02059057, -0.69594198,  0.41555804,  1.31067015],\n",
              "       [-0.36008062,  0.19660196, -0.48989929, -0.84513704]])"
            ]
          },
          "metadata": {},
          "execution_count": 78
        }
      ]
    },
    {
      "cell_type": "code",
      "execution_count": null,
      "metadata": {
        "id": "6d92bb61-b5ca-4b70-90a8-cdeaf08bbaf1"
      },
      "outputs": [],
      "source": [
        "import pandas as pd"
      ]
    },
    {
      "cell_type": "code",
      "execution_count": null,
      "metadata": {
        "id": "dbcf4067-1e75-4c0a-b422-1e0f795cad3f",
        "outputId": "3f3ce3ff-684d-4ada-b9ac-68986697e5af",
        "colab": {
          "base_uri": "https://localhost:8080/",
          "height": 153
        }
      },
      "outputs": [
        {
          "output_type": "execute_result",
          "data": {
            "text/plain": [
              "          0         1         2         3\n",
              "0  1.530654  0.008142  0.123079  0.511778\n",
              "1 -1.103861  0.293555  0.437360  1.413018\n",
              "2 -0.316120  0.809642 -1.084107  1.054025"
            ],
            "text/html": [
              "\n",
              "  <div id=\"df-3e7bc6ac-29da-4b62-933e-d2f388cf0ce1\" class=\"colab-df-container\">\n",
              "    <div>\n",
              "<style scoped>\n",
              "    .dataframe tbody tr th:only-of-type {\n",
              "        vertical-align: middle;\n",
              "    }\n",
              "\n",
              "    .dataframe tbody tr th {\n",
              "        vertical-align: top;\n",
              "    }\n",
              "\n",
              "    .dataframe thead th {\n",
              "        text-align: right;\n",
              "    }\n",
              "</style>\n",
              "<table border=\"1\" class=\"dataframe\">\n",
              "  <thead>\n",
              "    <tr style=\"text-align: right;\">\n",
              "      <th></th>\n",
              "      <th>0</th>\n",
              "      <th>1</th>\n",
              "      <th>2</th>\n",
              "      <th>3</th>\n",
              "    </tr>\n",
              "  </thead>\n",
              "  <tbody>\n",
              "    <tr>\n",
              "      <th>0</th>\n",
              "      <td>1.530654</td>\n",
              "      <td>0.008142</td>\n",
              "      <td>0.123079</td>\n",
              "      <td>0.511778</td>\n",
              "    </tr>\n",
              "    <tr>\n",
              "      <th>1</th>\n",
              "      <td>-1.103861</td>\n",
              "      <td>0.293555</td>\n",
              "      <td>0.437360</td>\n",
              "      <td>1.413018</td>\n",
              "    </tr>\n",
              "    <tr>\n",
              "      <th>2</th>\n",
              "      <td>-0.316120</td>\n",
              "      <td>0.809642</td>\n",
              "      <td>-1.084107</td>\n",
              "      <td>1.054025</td>\n",
              "    </tr>\n",
              "  </tbody>\n",
              "</table>\n",
              "</div>\n",
              "    <div class=\"colab-df-buttons\">\n",
              "\n",
              "  <div class=\"colab-df-container\">\n",
              "    <button class=\"colab-df-convert\" onclick=\"convertToInteractive('df-3e7bc6ac-29da-4b62-933e-d2f388cf0ce1')\"\n",
              "            title=\"Convert this dataframe to an interactive table.\"\n",
              "            style=\"display:none;\">\n",
              "\n",
              "  <svg xmlns=\"http://www.w3.org/2000/svg\" height=\"24px\" viewBox=\"0 -960 960 960\">\n",
              "    <path d=\"M120-120v-720h720v720H120Zm60-500h600v-160H180v160Zm220 220h160v-160H400v160Zm0 220h160v-160H400v160ZM180-400h160v-160H180v160Zm440 0h160v-160H620v160ZM180-180h160v-160H180v160Zm440 0h160v-160H620v160Z\"/>\n",
              "  </svg>\n",
              "    </button>\n",
              "\n",
              "  <style>\n",
              "    .colab-df-container {\n",
              "      display:flex;\n",
              "      gap: 12px;\n",
              "    }\n",
              "\n",
              "    .colab-df-convert {\n",
              "      background-color: #E8F0FE;\n",
              "      border: none;\n",
              "      border-radius: 50%;\n",
              "      cursor: pointer;\n",
              "      display: none;\n",
              "      fill: #1967D2;\n",
              "      height: 32px;\n",
              "      padding: 0 0 0 0;\n",
              "      width: 32px;\n",
              "    }\n",
              "\n",
              "    .colab-df-convert:hover {\n",
              "      background-color: #E2EBFA;\n",
              "      box-shadow: 0px 1px 2px rgba(60, 64, 67, 0.3), 0px 1px 3px 1px rgba(60, 64, 67, 0.15);\n",
              "      fill: #174EA6;\n",
              "    }\n",
              "\n",
              "    .colab-df-buttons div {\n",
              "      margin-bottom: 4px;\n",
              "    }\n",
              "\n",
              "    [theme=dark] .colab-df-convert {\n",
              "      background-color: #3B4455;\n",
              "      fill: #D2E3FC;\n",
              "    }\n",
              "\n",
              "    [theme=dark] .colab-df-convert:hover {\n",
              "      background-color: #434B5C;\n",
              "      box-shadow: 0px 1px 3px 1px rgba(0, 0, 0, 0.15);\n",
              "      filter: drop-shadow(0px 1px 2px rgba(0, 0, 0, 0.3));\n",
              "      fill: #FFFFFF;\n",
              "    }\n",
              "  </style>\n",
              "\n",
              "    <script>\n",
              "      const buttonEl =\n",
              "        document.querySelector('#df-3e7bc6ac-29da-4b62-933e-d2f388cf0ce1 button.colab-df-convert');\n",
              "      buttonEl.style.display =\n",
              "        google.colab.kernel.accessAllowed ? 'block' : 'none';\n",
              "\n",
              "      async function convertToInteractive(key) {\n",
              "        const element = document.querySelector('#df-3e7bc6ac-29da-4b62-933e-d2f388cf0ce1');\n",
              "        const dataTable =\n",
              "          await google.colab.kernel.invokeFunction('convertToInteractive',\n",
              "                                                    [key], {});\n",
              "        if (!dataTable) return;\n",
              "\n",
              "        const docLinkHtml = 'Like what you see? Visit the ' +\n",
              "          '<a target=\"_blank\" href=https://colab.research.google.com/notebooks/data_table.ipynb>data table notebook</a>'\n",
              "          + ' to learn more about interactive tables.';\n",
              "        element.innerHTML = '';\n",
              "        dataTable['output_type'] = 'display_data';\n",
              "        await google.colab.output.renderOutput(dataTable, element);\n",
              "        const docLink = document.createElement('div');\n",
              "        docLink.innerHTML = docLinkHtml;\n",
              "        element.appendChild(docLink);\n",
              "      }\n",
              "    </script>\n",
              "  </div>\n",
              "\n",
              "\n",
              "<div id=\"df-4049aa53-c992-420c-b589-0c2b0d88ddf3\">\n",
              "  <button class=\"colab-df-quickchart\" onclick=\"quickchart('df-4049aa53-c992-420c-b589-0c2b0d88ddf3')\"\n",
              "            title=\"Suggest charts\"\n",
              "            style=\"display:none;\">\n",
              "\n",
              "<svg xmlns=\"http://www.w3.org/2000/svg\" height=\"24px\"viewBox=\"0 0 24 24\"\n",
              "     width=\"24px\">\n",
              "    <g>\n",
              "        <path d=\"M19 3H5c-1.1 0-2 .9-2 2v14c0 1.1.9 2 2 2h14c1.1 0 2-.9 2-2V5c0-1.1-.9-2-2-2zM9 17H7v-7h2v7zm4 0h-2V7h2v10zm4 0h-2v-4h2v4z\"/>\n",
              "    </g>\n",
              "</svg>\n",
              "  </button>\n",
              "\n",
              "<style>\n",
              "  .colab-df-quickchart {\n",
              "      --bg-color: #E8F0FE;\n",
              "      --fill-color: #1967D2;\n",
              "      --hover-bg-color: #E2EBFA;\n",
              "      --hover-fill-color: #174EA6;\n",
              "      --disabled-fill-color: #AAA;\n",
              "      --disabled-bg-color: #DDD;\n",
              "  }\n",
              "\n",
              "  [theme=dark] .colab-df-quickchart {\n",
              "      --bg-color: #3B4455;\n",
              "      --fill-color: #D2E3FC;\n",
              "      --hover-bg-color: #434B5C;\n",
              "      --hover-fill-color: #FFFFFF;\n",
              "      --disabled-bg-color: #3B4455;\n",
              "      --disabled-fill-color: #666;\n",
              "  }\n",
              "\n",
              "  .colab-df-quickchart {\n",
              "    background-color: var(--bg-color);\n",
              "    border: none;\n",
              "    border-radius: 50%;\n",
              "    cursor: pointer;\n",
              "    display: none;\n",
              "    fill: var(--fill-color);\n",
              "    height: 32px;\n",
              "    padding: 0;\n",
              "    width: 32px;\n",
              "  }\n",
              "\n",
              "  .colab-df-quickchart:hover {\n",
              "    background-color: var(--hover-bg-color);\n",
              "    box-shadow: 0 1px 2px rgba(60, 64, 67, 0.3), 0 1px 3px 1px rgba(60, 64, 67, 0.15);\n",
              "    fill: var(--button-hover-fill-color);\n",
              "  }\n",
              "\n",
              "  .colab-df-quickchart-complete:disabled,\n",
              "  .colab-df-quickchart-complete:disabled:hover {\n",
              "    background-color: var(--disabled-bg-color);\n",
              "    fill: var(--disabled-fill-color);\n",
              "    box-shadow: none;\n",
              "  }\n",
              "\n",
              "  .colab-df-spinner {\n",
              "    border: 2px solid var(--fill-color);\n",
              "    border-color: transparent;\n",
              "    border-bottom-color: var(--fill-color);\n",
              "    animation:\n",
              "      spin 1s steps(1) infinite;\n",
              "  }\n",
              "\n",
              "  @keyframes spin {\n",
              "    0% {\n",
              "      border-color: transparent;\n",
              "      border-bottom-color: var(--fill-color);\n",
              "      border-left-color: var(--fill-color);\n",
              "    }\n",
              "    20% {\n",
              "      border-color: transparent;\n",
              "      border-left-color: var(--fill-color);\n",
              "      border-top-color: var(--fill-color);\n",
              "    }\n",
              "    30% {\n",
              "      border-color: transparent;\n",
              "      border-left-color: var(--fill-color);\n",
              "      border-top-color: var(--fill-color);\n",
              "      border-right-color: var(--fill-color);\n",
              "    }\n",
              "    40% {\n",
              "      border-color: transparent;\n",
              "      border-right-color: var(--fill-color);\n",
              "      border-top-color: var(--fill-color);\n",
              "    }\n",
              "    60% {\n",
              "      border-color: transparent;\n",
              "      border-right-color: var(--fill-color);\n",
              "    }\n",
              "    80% {\n",
              "      border-color: transparent;\n",
              "      border-right-color: var(--fill-color);\n",
              "      border-bottom-color: var(--fill-color);\n",
              "    }\n",
              "    90% {\n",
              "      border-color: transparent;\n",
              "      border-bottom-color: var(--fill-color);\n",
              "    }\n",
              "  }\n",
              "</style>\n",
              "\n",
              "  <script>\n",
              "    async function quickchart(key) {\n",
              "      const quickchartButtonEl =\n",
              "        document.querySelector('#' + key + ' button');\n",
              "      quickchartButtonEl.disabled = true;  // To prevent multiple clicks.\n",
              "      quickchartButtonEl.classList.add('colab-df-spinner');\n",
              "      try {\n",
              "        const charts = await google.colab.kernel.invokeFunction(\n",
              "            'suggestCharts', [key], {});\n",
              "      } catch (error) {\n",
              "        console.error('Error during call to suggestCharts:', error);\n",
              "      }\n",
              "      quickchartButtonEl.classList.remove('colab-df-spinner');\n",
              "      quickchartButtonEl.classList.add('colab-df-quickchart-complete');\n",
              "    }\n",
              "    (() => {\n",
              "      let quickchartButtonEl =\n",
              "        document.querySelector('#df-4049aa53-c992-420c-b589-0c2b0d88ddf3 button');\n",
              "      quickchartButtonEl.style.display =\n",
              "        google.colab.kernel.accessAllowed ? 'block' : 'none';\n",
              "    })();\n",
              "  </script>\n",
              "</div>\n",
              "\n",
              "    </div>\n",
              "  </div>\n"
            ],
            "application/vnd.google.colaboratory.intrinsic+json": {
              "type": "dataframe",
              "summary": "{\n  \"name\": \"pd\",\n  \"rows\": 3,\n  \"fields\": [\n    {\n      \"column\": 0,\n      \"properties\": {\n        \"dtype\": \"number\",\n        \"std\": 1.3522682656843028,\n        \"min\": -1.103860967805956,\n        \"max\": 1.5306537356624645,\n        \"num_unique_values\": 3,\n        \"samples\": [\n          1.5306537356624645,\n          -1.103860967805956,\n          -0.31611999451250816\n        ],\n        \"semantic_type\": \"\",\n        \"description\": \"\"\n      }\n    },\n    {\n      \"column\": 1,\n      \"properties\": {\n        \"dtype\": \"number\",\n        \"std\": 0.40624484927582627,\n        \"min\": 0.008141574112291734,\n        \"max\": 0.8096418310148135,\n        \"num_unique_values\": 3,\n        \"samples\": [\n          0.008141574112291734,\n          0.293554647250396,\n          0.8096418310148135\n        ],\n        \"semantic_type\": \"\",\n        \"description\": \"\"\n      }\n    },\n    {\n      \"column\": 2,\n      \"properties\": {\n        \"dtype\": \"number\",\n        \"std\": 0.8032155014152991,\n        \"min\": -1.0841067299003857,\n        \"max\": 0.4373601501769651,\n        \"num_unique_values\": 3,\n        \"samples\": [\n          0.12307863897527012,\n          0.4373601501769651,\n          -1.0841067299003857\n        ],\n        \"semantic_type\": \"\",\n        \"description\": \"\"\n      }\n    },\n    {\n      \"column\": 3,\n      \"properties\": {\n        \"dtype\": \"number\",\n        \"std\": 0.4537143865218492,\n        \"min\": 0.5117784504078425,\n        \"max\": 1.4130182072256796,\n        \"num_unique_values\": 3,\n        \"samples\": [\n          0.5117784504078425,\n          1.4130182072256796,\n          1.0540247942014316\n        ],\n        \"semantic_type\": \"\",\n        \"description\": \"\"\n      }\n    }\n  ]\n}"
            }
          },
          "metadata": {},
          "execution_count": 80
        }
      ],
      "source": [
        "pd.DataFrame(arr)"
      ]
    },
    {
      "cell_type": "code",
      "execution_count": null,
      "metadata": {
        "id": "af7b32b9-31fd-4b93-aa83-cb929c8f99c2",
        "outputId": "222652ad-e386-4ceb-ac44-d8f75744ec57",
        "colab": {
          "base_uri": "https://localhost:8080/"
        }
      },
      "outputs": [
        {
          "output_type": "execute_result",
          "data": {
            "text/plain": [
              "array([[0.16411458, 0.68555398, 0.46356504, 0.85742871],\n",
              "       [0.23925007, 0.9443199 , 0.31586792, 0.03907567],\n",
              "       [0.76990168, 0.62083472, 0.47856843, 0.38456995]])"
            ]
          },
          "metadata": {},
          "execution_count": 81
        }
      ],
      "source": [
        "np.random.rand(3,4)"
      ]
    },
    {
      "cell_type": "code",
      "source": [
        "np.random.randint(1,110,(3,4))"
      ],
      "metadata": {
        "id": "TShwq4kjZtI2",
        "outputId": "8a5f6d75-3eab-49de-e200-44675bff83f9",
        "colab": {
          "base_uri": "https://localhost:8080/"
        }
      },
      "execution_count": null,
      "outputs": [
        {
          "output_type": "execute_result",
          "data": {
            "text/plain": [
              "array([[ 30,  22,  56,  73],\n",
              "       [ 75,  97, 107,  53],\n",
              "       [ 15,  11,  13,  33]])"
            ]
          },
          "metadata": {},
          "execution_count": 82
        }
      ]
    },
    {
      "cell_type": "code",
      "source": [
        "np.random.randint(1,4,(3,4))"
      ],
      "metadata": {
        "id": "p1lQ9yBpZtLc",
        "outputId": "c6cbb537-5cf8-48c7-df5d-3300f2cb67fe",
        "colab": {
          "base_uri": "https://localhost:8080/"
        }
      },
      "execution_count": null,
      "outputs": [
        {
          "output_type": "execute_result",
          "data": {
            "text/plain": [
              "array([[2, 2, 3, 3],\n",
              "       [3, 1, 1, 1],\n",
              "       [3, 2, 2, 3]])"
            ]
          },
          "metadata": {},
          "execution_count": 83
        }
      ]
    },
    {
      "cell_type": "code",
      "source": [
        "np.random.randint(1,2,(3,4)) # range is 1 to 2 here 2 is excluded"
      ],
      "metadata": {
        "id": "cE0Q6PhvaCWX",
        "outputId": "634c0cb6-f582-462c-f98b-459b74464329",
        "colab": {
          "base_uri": "https://localhost:8080/"
        }
      },
      "execution_count": null,
      "outputs": [
        {
          "output_type": "execute_result",
          "data": {
            "text/plain": [
              "array([[1, 1, 1, 1],\n",
              "       [1, 1, 1, 1],\n",
              "       [1, 1, 1, 1]])"
            ]
          },
          "metadata": {},
          "execution_count": 84
        }
      ]
    },
    {
      "cell_type": "code",
      "source": [
        "np.random.randint(1,110 , (300,400))"
      ],
      "metadata": {
        "id": "G-aXvCuyaCZK",
        "outputId": "3b6cafea-c5eb-46c6-8944-35ef0b27a057",
        "colab": {
          "base_uri": "https://localhost:8080/"
        }
      },
      "execution_count": null,
      "outputs": [
        {
          "output_type": "execute_result",
          "data": {
            "text/plain": [
              "array([[106,  18,  85, ...,  53,  95,  97],\n",
              "       [ 56, 104,  28, ...,  57,  32,  15],\n",
              "       [ 39,  82,  75, ...,   6,  85,  91],\n",
              "       ...,\n",
              "       [ 79,  42,  66, ...,  28,  56,  48],\n",
              "       [109,  97, 105, ...,  28,  48,  93],\n",
              "       [ 48,  58,  57, ...,  75,  55,  53]])"
            ]
          },
          "metadata": {},
          "execution_count": 85
        }
      ]
    },
    {
      "cell_type": "code",
      "source": [
        "pd.DataFrame(np.random.randint(1,110 , (300,400)))"
      ],
      "metadata": {
        "id": "ani5waVLaXTY",
        "outputId": "a43bb4df-583a-4b53-a70a-710a5d35ffde",
        "colab": {
          "base_uri": "https://localhost:8080/",
          "height": 456
        }
      },
      "execution_count": null,
      "outputs": [
        {
          "output_type": "execute_result",
          "data": {
            "text/plain": [
              "     0    1    2    3    4    5    6    7    8    9    ...  390  391  392  \\\n",
              "0     77   88  101   71   25  106   97   56   89   97  ...   64   45   66   \n",
              "1    108   61   99   93   49   13   75   32   13   15  ...   25   10    7   \n",
              "2     88   89   94   33   78   43   28   84   78   78  ...   69   21   73   \n",
              "3     40   74   14   26   46   72   25  100    5  107  ...   37   99   48   \n",
              "4     64  106   38   79   28   22   63   11   35   68  ...   86   62   26   \n",
              "..   ...  ...  ...  ...  ...  ...  ...  ...  ...  ...  ...  ...  ...  ...   \n",
              "295   20   85   98   91   36   47   63   67   10   47  ...   90   67   59   \n",
              "296   58   27   35   32   41   95   77   58   48    6  ...   56    6   75   \n",
              "297   90   26   46  107   51   35   30   79   34   34  ...   15   85  103   \n",
              "298   31   97  100   29   74   73   46   32   84    5  ...    7   19   55   \n",
              "299   73   87   20   82  101   68   78   99   27    5  ...   81   90   56   \n",
              "\n",
              "     393  394  395  396  397  398  399  \n",
              "0     48   79   96   43    2   13   62  \n",
              "1     14   62   92    7   70   97   82  \n",
              "2     32   91  108   30  107   21   61  \n",
              "3     36   87   49   42   13   85   37  \n",
              "4    102   16   13  106    6   92   70  \n",
              "..   ...  ...  ...  ...  ...  ...  ...  \n",
              "295   42   68   44   58   51   82   32  \n",
              "296   88   19   71   94   81   75   90  \n",
              "297   49  105   89   85   37   37   35  \n",
              "298  104   29  105   98   64   56   22  \n",
              "299   84   39   28   22  103   11  108  \n",
              "\n",
              "[300 rows x 400 columns]"
            ],
            "text/html": [
              "\n",
              "  <div id=\"df-da708432-a409-4e6e-b977-a037b12315b2\" class=\"colab-df-container\">\n",
              "    <div>\n",
              "<style scoped>\n",
              "    .dataframe tbody tr th:only-of-type {\n",
              "        vertical-align: middle;\n",
              "    }\n",
              "\n",
              "    .dataframe tbody tr th {\n",
              "        vertical-align: top;\n",
              "    }\n",
              "\n",
              "    .dataframe thead th {\n",
              "        text-align: right;\n",
              "    }\n",
              "</style>\n",
              "<table border=\"1\" class=\"dataframe\">\n",
              "  <thead>\n",
              "    <tr style=\"text-align: right;\">\n",
              "      <th></th>\n",
              "      <th>0</th>\n",
              "      <th>1</th>\n",
              "      <th>2</th>\n",
              "      <th>3</th>\n",
              "      <th>4</th>\n",
              "      <th>5</th>\n",
              "      <th>6</th>\n",
              "      <th>7</th>\n",
              "      <th>8</th>\n",
              "      <th>9</th>\n",
              "      <th>...</th>\n",
              "      <th>390</th>\n",
              "      <th>391</th>\n",
              "      <th>392</th>\n",
              "      <th>393</th>\n",
              "      <th>394</th>\n",
              "      <th>395</th>\n",
              "      <th>396</th>\n",
              "      <th>397</th>\n",
              "      <th>398</th>\n",
              "      <th>399</th>\n",
              "    </tr>\n",
              "  </thead>\n",
              "  <tbody>\n",
              "    <tr>\n",
              "      <th>0</th>\n",
              "      <td>77</td>\n",
              "      <td>88</td>\n",
              "      <td>101</td>\n",
              "      <td>71</td>\n",
              "      <td>25</td>\n",
              "      <td>106</td>\n",
              "      <td>97</td>\n",
              "      <td>56</td>\n",
              "      <td>89</td>\n",
              "      <td>97</td>\n",
              "      <td>...</td>\n",
              "      <td>64</td>\n",
              "      <td>45</td>\n",
              "      <td>66</td>\n",
              "      <td>48</td>\n",
              "      <td>79</td>\n",
              "      <td>96</td>\n",
              "      <td>43</td>\n",
              "      <td>2</td>\n",
              "      <td>13</td>\n",
              "      <td>62</td>\n",
              "    </tr>\n",
              "    <tr>\n",
              "      <th>1</th>\n",
              "      <td>108</td>\n",
              "      <td>61</td>\n",
              "      <td>99</td>\n",
              "      <td>93</td>\n",
              "      <td>49</td>\n",
              "      <td>13</td>\n",
              "      <td>75</td>\n",
              "      <td>32</td>\n",
              "      <td>13</td>\n",
              "      <td>15</td>\n",
              "      <td>...</td>\n",
              "      <td>25</td>\n",
              "      <td>10</td>\n",
              "      <td>7</td>\n",
              "      <td>14</td>\n",
              "      <td>62</td>\n",
              "      <td>92</td>\n",
              "      <td>7</td>\n",
              "      <td>70</td>\n",
              "      <td>97</td>\n",
              "      <td>82</td>\n",
              "    </tr>\n",
              "    <tr>\n",
              "      <th>2</th>\n",
              "      <td>88</td>\n",
              "      <td>89</td>\n",
              "      <td>94</td>\n",
              "      <td>33</td>\n",
              "      <td>78</td>\n",
              "      <td>43</td>\n",
              "      <td>28</td>\n",
              "      <td>84</td>\n",
              "      <td>78</td>\n",
              "      <td>78</td>\n",
              "      <td>...</td>\n",
              "      <td>69</td>\n",
              "      <td>21</td>\n",
              "      <td>73</td>\n",
              "      <td>32</td>\n",
              "      <td>91</td>\n",
              "      <td>108</td>\n",
              "      <td>30</td>\n",
              "      <td>107</td>\n",
              "      <td>21</td>\n",
              "      <td>61</td>\n",
              "    </tr>\n",
              "    <tr>\n",
              "      <th>3</th>\n",
              "      <td>40</td>\n",
              "      <td>74</td>\n",
              "      <td>14</td>\n",
              "      <td>26</td>\n",
              "      <td>46</td>\n",
              "      <td>72</td>\n",
              "      <td>25</td>\n",
              "      <td>100</td>\n",
              "      <td>5</td>\n",
              "      <td>107</td>\n",
              "      <td>...</td>\n",
              "      <td>37</td>\n",
              "      <td>99</td>\n",
              "      <td>48</td>\n",
              "      <td>36</td>\n",
              "      <td>87</td>\n",
              "      <td>49</td>\n",
              "      <td>42</td>\n",
              "      <td>13</td>\n",
              "      <td>85</td>\n",
              "      <td>37</td>\n",
              "    </tr>\n",
              "    <tr>\n",
              "      <th>4</th>\n",
              "      <td>64</td>\n",
              "      <td>106</td>\n",
              "      <td>38</td>\n",
              "      <td>79</td>\n",
              "      <td>28</td>\n",
              "      <td>22</td>\n",
              "      <td>63</td>\n",
              "      <td>11</td>\n",
              "      <td>35</td>\n",
              "      <td>68</td>\n",
              "      <td>...</td>\n",
              "      <td>86</td>\n",
              "      <td>62</td>\n",
              "      <td>26</td>\n",
              "      <td>102</td>\n",
              "      <td>16</td>\n",
              "      <td>13</td>\n",
              "      <td>106</td>\n",
              "      <td>6</td>\n",
              "      <td>92</td>\n",
              "      <td>70</td>\n",
              "    </tr>\n",
              "    <tr>\n",
              "      <th>...</th>\n",
              "      <td>...</td>\n",
              "      <td>...</td>\n",
              "      <td>...</td>\n",
              "      <td>...</td>\n",
              "      <td>...</td>\n",
              "      <td>...</td>\n",
              "      <td>...</td>\n",
              "      <td>...</td>\n",
              "      <td>...</td>\n",
              "      <td>...</td>\n",
              "      <td>...</td>\n",
              "      <td>...</td>\n",
              "      <td>...</td>\n",
              "      <td>...</td>\n",
              "      <td>...</td>\n",
              "      <td>...</td>\n",
              "      <td>...</td>\n",
              "      <td>...</td>\n",
              "      <td>...</td>\n",
              "      <td>...</td>\n",
              "      <td>...</td>\n",
              "    </tr>\n",
              "    <tr>\n",
              "      <th>295</th>\n",
              "      <td>20</td>\n",
              "      <td>85</td>\n",
              "      <td>98</td>\n",
              "      <td>91</td>\n",
              "      <td>36</td>\n",
              "      <td>47</td>\n",
              "      <td>63</td>\n",
              "      <td>67</td>\n",
              "      <td>10</td>\n",
              "      <td>47</td>\n",
              "      <td>...</td>\n",
              "      <td>90</td>\n",
              "      <td>67</td>\n",
              "      <td>59</td>\n",
              "      <td>42</td>\n",
              "      <td>68</td>\n",
              "      <td>44</td>\n",
              "      <td>58</td>\n",
              "      <td>51</td>\n",
              "      <td>82</td>\n",
              "      <td>32</td>\n",
              "    </tr>\n",
              "    <tr>\n",
              "      <th>296</th>\n",
              "      <td>58</td>\n",
              "      <td>27</td>\n",
              "      <td>35</td>\n",
              "      <td>32</td>\n",
              "      <td>41</td>\n",
              "      <td>95</td>\n",
              "      <td>77</td>\n",
              "      <td>58</td>\n",
              "      <td>48</td>\n",
              "      <td>6</td>\n",
              "      <td>...</td>\n",
              "      <td>56</td>\n",
              "      <td>6</td>\n",
              "      <td>75</td>\n",
              "      <td>88</td>\n",
              "      <td>19</td>\n",
              "      <td>71</td>\n",
              "      <td>94</td>\n",
              "      <td>81</td>\n",
              "      <td>75</td>\n",
              "      <td>90</td>\n",
              "    </tr>\n",
              "    <tr>\n",
              "      <th>297</th>\n",
              "      <td>90</td>\n",
              "      <td>26</td>\n",
              "      <td>46</td>\n",
              "      <td>107</td>\n",
              "      <td>51</td>\n",
              "      <td>35</td>\n",
              "      <td>30</td>\n",
              "      <td>79</td>\n",
              "      <td>34</td>\n",
              "      <td>34</td>\n",
              "      <td>...</td>\n",
              "      <td>15</td>\n",
              "      <td>85</td>\n",
              "      <td>103</td>\n",
              "      <td>49</td>\n",
              "      <td>105</td>\n",
              "      <td>89</td>\n",
              "      <td>85</td>\n",
              "      <td>37</td>\n",
              "      <td>37</td>\n",
              "      <td>35</td>\n",
              "    </tr>\n",
              "    <tr>\n",
              "      <th>298</th>\n",
              "      <td>31</td>\n",
              "      <td>97</td>\n",
              "      <td>100</td>\n",
              "      <td>29</td>\n",
              "      <td>74</td>\n",
              "      <td>73</td>\n",
              "      <td>46</td>\n",
              "      <td>32</td>\n",
              "      <td>84</td>\n",
              "      <td>5</td>\n",
              "      <td>...</td>\n",
              "      <td>7</td>\n",
              "      <td>19</td>\n",
              "      <td>55</td>\n",
              "      <td>104</td>\n",
              "      <td>29</td>\n",
              "      <td>105</td>\n",
              "      <td>98</td>\n",
              "      <td>64</td>\n",
              "      <td>56</td>\n",
              "      <td>22</td>\n",
              "    </tr>\n",
              "    <tr>\n",
              "      <th>299</th>\n",
              "      <td>73</td>\n",
              "      <td>87</td>\n",
              "      <td>20</td>\n",
              "      <td>82</td>\n",
              "      <td>101</td>\n",
              "      <td>68</td>\n",
              "      <td>78</td>\n",
              "      <td>99</td>\n",
              "      <td>27</td>\n",
              "      <td>5</td>\n",
              "      <td>...</td>\n",
              "      <td>81</td>\n",
              "      <td>90</td>\n",
              "      <td>56</td>\n",
              "      <td>84</td>\n",
              "      <td>39</td>\n",
              "      <td>28</td>\n",
              "      <td>22</td>\n",
              "      <td>103</td>\n",
              "      <td>11</td>\n",
              "      <td>108</td>\n",
              "    </tr>\n",
              "  </tbody>\n",
              "</table>\n",
              "<p>300 rows × 400 columns</p>\n",
              "</div>\n",
              "    <div class=\"colab-df-buttons\">\n",
              "\n",
              "  <div class=\"colab-df-container\">\n",
              "    <button class=\"colab-df-convert\" onclick=\"convertToInteractive('df-da708432-a409-4e6e-b977-a037b12315b2')\"\n",
              "            title=\"Convert this dataframe to an interactive table.\"\n",
              "            style=\"display:none;\">\n",
              "\n",
              "  <svg xmlns=\"http://www.w3.org/2000/svg\" height=\"24px\" viewBox=\"0 -960 960 960\">\n",
              "    <path d=\"M120-120v-720h720v720H120Zm60-500h600v-160H180v160Zm220 220h160v-160H400v160Zm0 220h160v-160H400v160ZM180-400h160v-160H180v160Zm440 0h160v-160H620v160ZM180-180h160v-160H180v160Zm440 0h160v-160H620v160Z\"/>\n",
              "  </svg>\n",
              "    </button>\n",
              "\n",
              "  <style>\n",
              "    .colab-df-container {\n",
              "      display:flex;\n",
              "      gap: 12px;\n",
              "    }\n",
              "\n",
              "    .colab-df-convert {\n",
              "      background-color: #E8F0FE;\n",
              "      border: none;\n",
              "      border-radius: 50%;\n",
              "      cursor: pointer;\n",
              "      display: none;\n",
              "      fill: #1967D2;\n",
              "      height: 32px;\n",
              "      padding: 0 0 0 0;\n",
              "      width: 32px;\n",
              "    }\n",
              "\n",
              "    .colab-df-convert:hover {\n",
              "      background-color: #E2EBFA;\n",
              "      box-shadow: 0px 1px 2px rgba(60, 64, 67, 0.3), 0px 1px 3px 1px rgba(60, 64, 67, 0.15);\n",
              "      fill: #174EA6;\n",
              "    }\n",
              "\n",
              "    .colab-df-buttons div {\n",
              "      margin-bottom: 4px;\n",
              "    }\n",
              "\n",
              "    [theme=dark] .colab-df-convert {\n",
              "      background-color: #3B4455;\n",
              "      fill: #D2E3FC;\n",
              "    }\n",
              "\n",
              "    [theme=dark] .colab-df-convert:hover {\n",
              "      background-color: #434B5C;\n",
              "      box-shadow: 0px 1px 3px 1px rgba(0, 0, 0, 0.15);\n",
              "      filter: drop-shadow(0px 1px 2px rgba(0, 0, 0, 0.3));\n",
              "      fill: #FFFFFF;\n",
              "    }\n",
              "  </style>\n",
              "\n",
              "    <script>\n",
              "      const buttonEl =\n",
              "        document.querySelector('#df-da708432-a409-4e6e-b977-a037b12315b2 button.colab-df-convert');\n",
              "      buttonEl.style.display =\n",
              "        google.colab.kernel.accessAllowed ? 'block' : 'none';\n",
              "\n",
              "      async function convertToInteractive(key) {\n",
              "        const element = document.querySelector('#df-da708432-a409-4e6e-b977-a037b12315b2');\n",
              "        const dataTable =\n",
              "          await google.colab.kernel.invokeFunction('convertToInteractive',\n",
              "                                                    [key], {});\n",
              "        if (!dataTable) return;\n",
              "\n",
              "        const docLinkHtml = 'Like what you see? Visit the ' +\n",
              "          '<a target=\"_blank\" href=https://colab.research.google.com/notebooks/data_table.ipynb>data table notebook</a>'\n",
              "          + ' to learn more about interactive tables.';\n",
              "        element.innerHTML = '';\n",
              "        dataTable['output_type'] = 'display_data';\n",
              "        await google.colab.output.renderOutput(dataTable, element);\n",
              "        const docLink = document.createElement('div');\n",
              "        docLink.innerHTML = docLinkHtml;\n",
              "        element.appendChild(docLink);\n",
              "      }\n",
              "    </script>\n",
              "  </div>\n",
              "\n",
              "\n",
              "<div id=\"df-9d208782-e704-4ac7-bcce-db8059098712\">\n",
              "  <button class=\"colab-df-quickchart\" onclick=\"quickchart('df-9d208782-e704-4ac7-bcce-db8059098712')\"\n",
              "            title=\"Suggest charts\"\n",
              "            style=\"display:none;\">\n",
              "\n",
              "<svg xmlns=\"http://www.w3.org/2000/svg\" height=\"24px\"viewBox=\"0 0 24 24\"\n",
              "     width=\"24px\">\n",
              "    <g>\n",
              "        <path d=\"M19 3H5c-1.1 0-2 .9-2 2v14c0 1.1.9 2 2 2h14c1.1 0 2-.9 2-2V5c0-1.1-.9-2-2-2zM9 17H7v-7h2v7zm4 0h-2V7h2v10zm4 0h-2v-4h2v4z\"/>\n",
              "    </g>\n",
              "</svg>\n",
              "  </button>\n",
              "\n",
              "<style>\n",
              "  .colab-df-quickchart {\n",
              "      --bg-color: #E8F0FE;\n",
              "      --fill-color: #1967D2;\n",
              "      --hover-bg-color: #E2EBFA;\n",
              "      --hover-fill-color: #174EA6;\n",
              "      --disabled-fill-color: #AAA;\n",
              "      --disabled-bg-color: #DDD;\n",
              "  }\n",
              "\n",
              "  [theme=dark] .colab-df-quickchart {\n",
              "      --bg-color: #3B4455;\n",
              "      --fill-color: #D2E3FC;\n",
              "      --hover-bg-color: #434B5C;\n",
              "      --hover-fill-color: #FFFFFF;\n",
              "      --disabled-bg-color: #3B4455;\n",
              "      --disabled-fill-color: #666;\n",
              "  }\n",
              "\n",
              "  .colab-df-quickchart {\n",
              "    background-color: var(--bg-color);\n",
              "    border: none;\n",
              "    border-radius: 50%;\n",
              "    cursor: pointer;\n",
              "    display: none;\n",
              "    fill: var(--fill-color);\n",
              "    height: 32px;\n",
              "    padding: 0;\n",
              "    width: 32px;\n",
              "  }\n",
              "\n",
              "  .colab-df-quickchart:hover {\n",
              "    background-color: var(--hover-bg-color);\n",
              "    box-shadow: 0 1px 2px rgba(60, 64, 67, 0.3), 0 1px 3px 1px rgba(60, 64, 67, 0.15);\n",
              "    fill: var(--button-hover-fill-color);\n",
              "  }\n",
              "\n",
              "  .colab-df-quickchart-complete:disabled,\n",
              "  .colab-df-quickchart-complete:disabled:hover {\n",
              "    background-color: var(--disabled-bg-color);\n",
              "    fill: var(--disabled-fill-color);\n",
              "    box-shadow: none;\n",
              "  }\n",
              "\n",
              "  .colab-df-spinner {\n",
              "    border: 2px solid var(--fill-color);\n",
              "    border-color: transparent;\n",
              "    border-bottom-color: var(--fill-color);\n",
              "    animation:\n",
              "      spin 1s steps(1) infinite;\n",
              "  }\n",
              "\n",
              "  @keyframes spin {\n",
              "    0% {\n",
              "      border-color: transparent;\n",
              "      border-bottom-color: var(--fill-color);\n",
              "      border-left-color: var(--fill-color);\n",
              "    }\n",
              "    20% {\n",
              "      border-color: transparent;\n",
              "      border-left-color: var(--fill-color);\n",
              "      border-top-color: var(--fill-color);\n",
              "    }\n",
              "    30% {\n",
              "      border-color: transparent;\n",
              "      border-left-color: var(--fill-color);\n",
              "      border-top-color: var(--fill-color);\n",
              "      border-right-color: var(--fill-color);\n",
              "    }\n",
              "    40% {\n",
              "      border-color: transparent;\n",
              "      border-right-color: var(--fill-color);\n",
              "      border-top-color: var(--fill-color);\n",
              "    }\n",
              "    60% {\n",
              "      border-color: transparent;\n",
              "      border-right-color: var(--fill-color);\n",
              "    }\n",
              "    80% {\n",
              "      border-color: transparent;\n",
              "      border-right-color: var(--fill-color);\n",
              "      border-bottom-color: var(--fill-color);\n",
              "    }\n",
              "    90% {\n",
              "      border-color: transparent;\n",
              "      border-bottom-color: var(--fill-color);\n",
              "    }\n",
              "  }\n",
              "</style>\n",
              "\n",
              "  <script>\n",
              "    async function quickchart(key) {\n",
              "      const quickchartButtonEl =\n",
              "        document.querySelector('#' + key + ' button');\n",
              "      quickchartButtonEl.disabled = true;  // To prevent multiple clicks.\n",
              "      quickchartButtonEl.classList.add('colab-df-spinner');\n",
              "      try {\n",
              "        const charts = await google.colab.kernel.invokeFunction(\n",
              "            'suggestCharts', [key], {});\n",
              "      } catch (error) {\n",
              "        console.error('Error during call to suggestCharts:', error);\n",
              "      }\n",
              "      quickchartButtonEl.classList.remove('colab-df-spinner');\n",
              "      quickchartButtonEl.classList.add('colab-df-quickchart-complete');\n",
              "    }\n",
              "    (() => {\n",
              "      let quickchartButtonEl =\n",
              "        document.querySelector('#df-9d208782-e704-4ac7-bcce-db8059098712 button');\n",
              "      quickchartButtonEl.style.display =\n",
              "        google.colab.kernel.accessAllowed ? 'block' : 'none';\n",
              "    })();\n",
              "  </script>\n",
              "</div>\n",
              "\n",
              "    </div>\n",
              "  </div>\n"
            ],
            "application/vnd.google.colaboratory.intrinsic+json": {
              "type": "dataframe"
            }
          },
          "metadata": {},
          "execution_count": 86
        }
      ]
    },
    {
      "cell_type": "code",
      "execution_count": null,
      "metadata": {
        "id": "941e27b3-b9ef-4224-8bdc-7a9afe4dcc00"
      },
      "outputs": [],
      "source": [
        "pd.DataFrame(np.random.randint(1,110 , (300,400))).to_csv('test.csv')"
      ]
    },
    {
      "cell_type": "code",
      "execution_count": null,
      "metadata": {
        "id": "dfa812c4-8c83-40ef-9f2e-15a48862a9e8"
      },
      "outputs": [],
      "source": [
        "arr = np.random.rand(3,4)"
      ]
    },
    {
      "cell_type": "code",
      "execution_count": null,
      "metadata": {
        "id": "924094e5-5b37-470e-b24e-1c1d1ca58ebc",
        "outputId": "222fe2f5-e5b0-4362-b9af-a3e200a9effc",
        "colab": {
          "base_uri": "https://localhost:8080/"
        }
      },
      "outputs": [
        {
          "output_type": "execute_result",
          "data": {
            "text/plain": [
              "array([[0.97622515, 0.97421073, 0.75799879, 0.54535098],\n",
              "       [0.31805373, 0.21872034, 0.52571352, 0.61684153],\n",
              "       [0.05124143, 0.04267771, 0.83983415, 0.59824673]])"
            ]
          },
          "metadata": {},
          "execution_count": 89
        }
      ],
      "source": [
        "arr"
      ]
    },
    {
      "cell_type": "code",
      "execution_count": null,
      "metadata": {
        "id": "443822b9-b252-4be8-a3f7-590d97616a29",
        "outputId": "8fe94131-9925-4a72-92fb-099395514c68",
        "colab": {
          "base_uri": "https://localhost:8080/"
        }
      },
      "outputs": [
        {
          "output_type": "execute_result",
          "data": {
            "text/plain": [
              "array([[0.97622515, 0.97421073],\n",
              "       [0.75799879, 0.54535098],\n",
              "       [0.31805373, 0.21872034],\n",
              "       [0.52571352, 0.61684153],\n",
              "       [0.05124143, 0.04267771],\n",
              "       [0.83983415, 0.59824673]])"
            ]
          },
          "metadata": {},
          "execution_count": 90
        }
      ],
      "source": [
        "arr.reshape(6,2)"
      ]
    },
    {
      "cell_type": "code",
      "source": [
        "arr.reshape(6,-1)"
      ],
      "metadata": {
        "id": "7G2Soq94bIIY",
        "outputId": "f875e905-457f-4632-93ca-65c54c9869f0",
        "colab": {
          "base_uri": "https://localhost:8080/"
        }
      },
      "execution_count": null,
      "outputs": [
        {
          "output_type": "execute_result",
          "data": {
            "text/plain": [
              "array([[0.97622515, 0.97421073],\n",
              "       [0.75799879, 0.54535098],\n",
              "       [0.31805373, 0.21872034],\n",
              "       [0.52571352, 0.61684153],\n",
              "       [0.05124143, 0.04267771],\n",
              "       [0.83983415, 0.59824673]])"
            ]
          },
          "metadata": {},
          "execution_count": 91
        }
      ]
    },
    {
      "cell_type": "code",
      "source": [
        "arr.reshape(6,-2)"
      ],
      "metadata": {
        "id": "zgI669eKbIK6",
        "outputId": "387ec93e-10af-4f6e-8d02-59b5048eae83",
        "colab": {
          "base_uri": "https://localhost:8080/"
        }
      },
      "execution_count": null,
      "outputs": [
        {
          "output_type": "execute_result",
          "data": {
            "text/plain": [
              "array([[0.97622515, 0.97421073],\n",
              "       [0.75799879, 0.54535098],\n",
              "       [0.31805373, 0.21872034],\n",
              "       [0.52571352, 0.61684153],\n",
              "       [0.05124143, 0.04267771],\n",
              "       [0.83983415, 0.59824673]])"
            ]
          },
          "metadata": {},
          "execution_count": 92
        }
      ]
    },
    {
      "cell_type": "code",
      "source": [
        "arr.reshape(6,-34567)"
      ],
      "metadata": {
        "id": "NlpwvsKRbIOM",
        "outputId": "9bf748f8-aa66-4c6c-a24a-ff2bda85e797",
        "colab": {
          "base_uri": "https://localhost:8080/"
        }
      },
      "execution_count": null,
      "outputs": [
        {
          "output_type": "execute_result",
          "data": {
            "text/plain": [
              "array([[0.97622515, 0.97421073],\n",
              "       [0.75799879, 0.54535098],\n",
              "       [0.31805373, 0.21872034],\n",
              "       [0.52571352, 0.61684153],\n",
              "       [0.05124143, 0.04267771],\n",
              "       [0.83983415, 0.59824673]])"
            ]
          },
          "metadata": {},
          "execution_count": 93
        }
      ]
    },
    {
      "cell_type": "code",
      "execution_count": null,
      "metadata": {
        "id": "683660de-3236-44a2-acec-28734e94677d"
      },
      "outputs": [],
      "source": [
        "arr1 = arr.reshape(6,-134353553435)"
      ]
    },
    {
      "cell_type": "code",
      "execution_count": null,
      "metadata": {
        "id": "4d6919b5-9369-4052-be18-895148800908",
        "outputId": "1de734b9-6b84-4ccb-c5f7-84092cd7b045",
        "colab": {
          "base_uri": "https://localhost:8080/"
        }
      },
      "outputs": [
        {
          "output_type": "execute_result",
          "data": {
            "text/plain": [
              "array([[0.97622515, 0.97421073],\n",
              "       [0.75799879, 0.54535098],\n",
              "       [0.31805373, 0.21872034],\n",
              "       [0.52571352, 0.61684153],\n",
              "       [0.05124143, 0.04267771],\n",
              "       [0.83983415, 0.59824673]])"
            ]
          },
          "metadata": {},
          "execution_count": 95
        }
      ],
      "source": [
        "arr1"
      ]
    },
    {
      "cell_type": "code",
      "execution_count": null,
      "metadata": {
        "id": "c789b201-52a4-4263-865c-fd088910e367",
        "outputId": "004d8be4-9547-46ff-bf9b-3a88865efbdb",
        "colab": {
          "base_uri": "https://localhost:8080/"
        }
      },
      "outputs": [
        {
          "output_type": "execute_result",
          "data": {
            "text/plain": [
              "0.5453509822066328"
            ]
          },
          "metadata": {},
          "execution_count": 96
        }
      ],
      "source": [
        "arr1[1][1]"
      ]
    },
    {
      "cell_type": "code",
      "source": [
        "arr1[2:5]"
      ],
      "metadata": {
        "id": "aGF-kWYAb0Om",
        "outputId": "d3aa0228-a86c-453c-d973-cbae1a5ae382",
        "colab": {
          "base_uri": "https://localhost:8080/"
        }
      },
      "execution_count": null,
      "outputs": [
        {
          "output_type": "execute_result",
          "data": {
            "text/plain": [
              "array([[0.31805373, 0.21872034],\n",
              "       [0.52571352, 0.61684153],\n",
              "       [0.05124143, 0.04267771]])"
            ]
          },
          "metadata": {},
          "execution_count": 97
        }
      ]
    },
    {
      "cell_type": "code",
      "execution_count": null,
      "metadata": {
        "id": "071194b0-b65f-4bed-8317-e692032c3316",
        "outputId": "087b940d-a623-497e-9d03-efb4879c53a9",
        "colab": {
          "base_uri": "https://localhost:8080/"
        }
      },
      "outputs": [
        {
          "output_type": "execute_result",
          "data": {
            "text/plain": [
              "array([0.21872034, 0.61684153, 0.04267771])"
            ]
          },
          "metadata": {},
          "execution_count": 98
        }
      ],
      "source": [
        "arr1[2:5,1]"
      ]
    },
    {
      "cell_type": "markdown",
      "source": [],
      "metadata": {
        "id": "QHjqag47cD61"
      }
    },
    {
      "cell_type": "code",
      "execution_count": null,
      "metadata": {
        "id": "a56fc792-c12a-409f-85bb-b997ec848ee7"
      },
      "outputs": [],
      "source": [
        "arr = np.random.randint(1,100 , (5,5))"
      ]
    },
    {
      "cell_type": "code",
      "execution_count": null,
      "metadata": {
        "id": "a0f7dd58-668d-48e4-9ba4-4986909abfc0",
        "outputId": "109ef23b-b188-45d9-b4ef-b13e294db475",
        "colab": {
          "base_uri": "https://localhost:8080/"
        }
      },
      "outputs": [
        {
          "output_type": "execute_result",
          "data": {
            "text/plain": [
              "array([[25, 96, 57, 27, 40],\n",
              "       [26, 38, 29, 95,  4],\n",
              "       [84, 66, 21, 27,  7],\n",
              "       [34, 72, 78, 36,  9],\n",
              "       [ 7, 72, 71,  1, 32]])"
            ]
          },
          "metadata": {},
          "execution_count": 100
        }
      ],
      "source": [
        "arr"
      ]
    },
    {
      "cell_type": "code",
      "execution_count": null,
      "metadata": {
        "id": "7aad19ec-6d3f-480d-aa0c-df4ca1291733",
        "outputId": "d96e5109-f5cb-49f0-a227-a39afaadda87",
        "colab": {
          "base_uri": "https://localhost:8080/"
        }
      },
      "outputs": [
        {
          "output_type": "execute_result",
          "data": {
            "text/plain": [
              "array([96, 57, 95, 84, 66, 72, 78, 72, 71])"
            ]
          },
          "metadata": {},
          "execution_count": 101
        }
      ],
      "source": [
        "arr[arr>50]"
      ]
    },
    {
      "cell_type": "code",
      "source": [
        "arr>50\n"
      ],
      "metadata": {
        "id": "PeaDDnPMcL6K",
        "outputId": "5cced7fe-8111-40ec-a831-02f24d42e920",
        "colab": {
          "base_uri": "https://localhost:8080/"
        }
      },
      "execution_count": null,
      "outputs": [
        {
          "output_type": "execute_result",
          "data": {
            "text/plain": [
              "array([[False,  True,  True, False, False],\n",
              "       [False, False, False,  True, False],\n",
              "       [ True,  True, False, False, False],\n",
              "       [False,  True,  True, False, False],\n",
              "       [False,  True,  True, False, False]])"
            ]
          },
          "metadata": {},
          "execution_count": 102
        }
      ]
    },
    {
      "cell_type": "code",
      "execution_count": null,
      "metadata": {
        "id": "1b02ca52-b1b3-4fa8-bd93-3717816e7591",
        "outputId": "1842e4e5-23c0-4204-b26a-d338a1e59835",
        "colab": {
          "base_uri": "https://localhost:8080/"
        }
      },
      "outputs": [
        {
          "output_type": "execute_result",
          "data": {
            "text/plain": [
              "array([[25, 96, 57, 27, 40],\n",
              "       [26, 38, 29, 95,  4],\n",
              "       [84, 66, 21, 27,  7],\n",
              "       [34, 72, 78, 36,  9],\n",
              "       [ 7, 72, 71,  1, 32]])"
            ]
          },
          "metadata": {},
          "execution_count": 103
        }
      ],
      "source": [
        "arr"
      ]
    },
    {
      "cell_type": "code",
      "execution_count": null,
      "metadata": {
        "id": "041505cb-20f5-447c-b058-0d62f2f472e7",
        "outputId": "be0fbd9f-d454-4c57-fe99-e0ec4e69297a",
        "colab": {
          "base_uri": "https://localhost:8080/"
        }
      },
      "outputs": [
        {
          "output_type": "execute_result",
          "data": {
            "text/plain": [
              "array([[66, 21],\n",
              "       [72, 78]])"
            ]
          },
          "metadata": {},
          "execution_count": 104
        }
      ],
      "source": [
        "arr[2:4 , [1,2]]"
      ]
    },
    {
      "cell_type": "code",
      "execution_count": null,
      "metadata": {
        "id": "d3541d0c-c152-4cff-8a3f-a94a14be769a"
      },
      "outputs": [],
      "source": [
        "arr[0][0] = 5000"
      ]
    },
    {
      "cell_type": "code",
      "execution_count": null,
      "metadata": {
        "id": "655696e2-9f75-4fbc-9dda-79c5a934a1a7",
        "outputId": "a25e3305-d2c5-4ac9-8cdb-84fb0d75636c",
        "colab": {
          "base_uri": "https://localhost:8080/"
        }
      },
      "outputs": [
        {
          "output_type": "execute_result",
          "data": {
            "text/plain": [
              "array([[5000,   96,   57,   27,   40],\n",
              "       [  26,   38,   29,   95,    4],\n",
              "       [  84,   66,   21,   27,    7],\n",
              "       [  34,   72,   78,   36,    9],\n",
              "       [   7,   72,   71,    1,   32]])"
            ]
          },
          "metadata": {},
          "execution_count": 106
        }
      ],
      "source": [
        "arr"
      ]
    },
    {
      "cell_type": "code",
      "execution_count": null,
      "metadata": {
        "id": "c9b54bc7-a24f-428a-963e-22d7f06de522"
      },
      "outputs": [],
      "source": [
        "arr1 = np.random.randint(1,3 , (3,3))\n",
        "arr2 = np.random.randint(1,3 , (3,3))"
      ]
    },
    {
      "cell_type": "code",
      "execution_count": null,
      "metadata": {
        "id": "9abc3bd0-459c-4d26-be84-786959e4f220",
        "outputId": "4a368b02-a8e9-47cc-a32f-965445ef7d3c",
        "colab": {
          "base_uri": "https://localhost:8080/"
        }
      },
      "outputs": [
        {
          "output_type": "execute_result",
          "data": {
            "text/plain": [
              "array([[2, 2, 1],\n",
              "       [1, 2, 2],\n",
              "       [2, 1, 1]])"
            ]
          },
          "metadata": {},
          "execution_count": 108
        }
      ],
      "source": [
        "arr1"
      ]
    },
    {
      "cell_type": "code",
      "execution_count": null,
      "metadata": {
        "id": "42603651-479b-442e-8768-229cb3309e5c",
        "outputId": "d0803d9b-223a-4cff-cfb9-3edca9980dc7",
        "colab": {
          "base_uri": "https://localhost:8080/"
        }
      },
      "outputs": [
        {
          "output_type": "execute_result",
          "data": {
            "text/plain": [
              "array([[2, 1, 1],\n",
              "       [1, 2, 1],\n",
              "       [1, 2, 1]])"
            ]
          },
          "metadata": {},
          "execution_count": 109
        }
      ],
      "source": [
        "arr2\n"
      ]
    },
    {
      "cell_type": "code",
      "execution_count": null,
      "metadata": {
        "id": "b3fc7365-7c4d-42e8-bf94-9ba5b1983cb7",
        "outputId": "248262ad-1b0f-47e7-ccc8-344fccd7e8c0",
        "colab": {
          "base_uri": "https://localhost:8080/"
        }
      },
      "outputs": [
        {
          "output_type": "execute_result",
          "data": {
            "text/plain": [
              "array([[4, 3, 2],\n",
              "       [2, 4, 3],\n",
              "       [3, 3, 2]])"
            ]
          },
          "metadata": {},
          "execution_count": 110
        }
      ],
      "source": [
        "arr1+arr2"
      ]
    },
    {
      "cell_type": "code",
      "execution_count": null,
      "metadata": {
        "id": "84f07dc1-0f29-46a9-bdd8-695d7060ebe9",
        "outputId": "135b3770-200a-4765-ebd2-41c98b6decc1",
        "colab": {
          "base_uri": "https://localhost:8080/"
        }
      },
      "outputs": [
        {
          "output_type": "execute_result",
          "data": {
            "text/plain": [
              "array([[ 0,  1,  0],\n",
              "       [ 0,  0,  1],\n",
              "       [ 1, -1,  0]])"
            ]
          },
          "metadata": {},
          "execution_count": 111
        }
      ],
      "source": [
        "arr1-arr2"
      ]
    },
    {
      "cell_type": "code",
      "execution_count": null,
      "metadata": {
        "id": "49a34c34-2fcc-45c8-a1c9-6ebe6e993dca",
        "outputId": "6f934d55-264d-4dad-8b49-d00c9f332324",
        "colab": {
          "base_uri": "https://localhost:8080/"
        }
      },
      "outputs": [
        {
          "output_type": "execute_result",
          "data": {
            "text/plain": [
              "array([[1. , 2. , 1. ],\n",
              "       [1. , 1. , 2. ],\n",
              "       [2. , 0.5, 1. ]])"
            ]
          },
          "metadata": {},
          "execution_count": 112
        }
      ],
      "source": [
        "arr1/arr2"
      ]
    },
    {
      "cell_type": "code",
      "execution_count": null,
      "metadata": {
        "id": "0ed674d1-a1f3-45f2-bd44-c4e9bb2fd458",
        "outputId": "bb88df0a-a17d-404b-95c8-32d118d44142",
        "colab": {
          "base_uri": "https://localhost:8080/"
        }
      },
      "outputs": [
        {
          "output_type": "execute_result",
          "data": {
            "text/plain": [
              "array([[4, 2, 1],\n",
              "       [1, 4, 2],\n",
              "       [2, 2, 1]])"
            ]
          },
          "metadata": {},
          "execution_count": 113
        }
      ],
      "source": [
        "arr1 * arr2 # simple indexwise multiplication"
      ]
    },
    {
      "cell_type": "code",
      "execution_count": null,
      "metadata": {
        "id": "e1e9fa53-7a19-4941-9f42-70012fdaf9b5",
        "outputId": "55f8480b-910a-4531-aedb-1da04897d327",
        "colab": {
          "base_uri": "https://localhost:8080/"
        }
      },
      "outputs": [
        {
          "output_type": "execute_result",
          "data": {
            "text/plain": [
              "array([[2, 2, 1],\n",
              "       [1, 2, 2],\n",
              "       [2, 1, 1]])"
            ]
          },
          "metadata": {},
          "execution_count": 114
        }
      ],
      "source": [
        "arr1"
      ]
    },
    {
      "cell_type": "code",
      "execution_count": null,
      "metadata": {
        "id": "80becb6c-b940-4ff3-bd8d-39d1209905bf",
        "outputId": "11f6d910-3b79-40aa-f987-18be88fe49ea",
        "colab": {
          "base_uri": "https://localhost:8080/"
        }
      },
      "outputs": [
        {
          "output_type": "execute_result",
          "data": {
            "text/plain": [
              "array([[2, 1, 1],\n",
              "       [1, 2, 1],\n",
              "       [1, 2, 1]])"
            ]
          },
          "metadata": {},
          "execution_count": 115
        }
      ],
      "source": [
        "arr2"
      ]
    },
    {
      "cell_type": "code",
      "execution_count": null,
      "metadata": {
        "id": "c6f5a6ab-db3a-4517-836f-86cc61f12c32",
        "outputId": "66e45d88-73c9-4501-ecc4-31bf382b4cfd",
        "colab": {
          "base_uri": "https://localhost:8080/"
        }
      },
      "outputs": [
        {
          "output_type": "execute_result",
          "data": {
            "text/plain": [
              "array([[7, 8, 5],\n",
              "       [6, 9, 5],\n",
              "       [6, 6, 4]])"
            ]
          },
          "metadata": {},
          "execution_count": 116
        }
      ],
      "source": [
        "arr1@arr2 #matrix multiplication"
      ]
    },
    {
      "cell_type": "code",
      "execution_count": null,
      "metadata": {
        "id": "0187979b-c3aa-4993-9811-cba5a0997765",
        "outputId": "4ef654dd-50fc-4504-a01d-7a2a6d324fc0",
        "colab": {
          "base_uri": "https://localhost:8080/"
        }
      },
      "outputs": [
        {
          "output_type": "stream",
          "name": "stderr",
          "text": [
            "<ipython-input-117-2e1dc0d9289f>:1: RuntimeWarning: divide by zero encountered in divide\n",
            "  arr1/0\n"
          ]
        },
        {
          "output_type": "execute_result",
          "data": {
            "text/plain": [
              "array([[inf, inf, inf],\n",
              "       [inf, inf, inf],\n",
              "       [inf, inf, inf]])"
            ]
          },
          "metadata": {},
          "execution_count": 117
        }
      ],
      "source": [
        "arr1/0"
      ]
    },
    {
      "cell_type": "code",
      "execution_count": null,
      "metadata": {
        "id": "8a089e96-7b2d-4bcd-bcb3-e9476a91a8a3",
        "outputId": "82d0685b-62c9-47c1-ce94-53ea44ae541d",
        "colab": {
          "base_uri": "https://localhost:8080/"
        }
      },
      "outputs": [
        {
          "output_type": "execute_result",
          "data": {
            "text/plain": [
              "array([[102, 102, 101],\n",
              "       [101, 102, 102],\n",
              "       [102, 101, 101]])"
            ]
          },
          "metadata": {},
          "execution_count": 118
        }
      ],
      "source": [
        "arr1 +100"
      ]
    },
    {
      "cell_type": "code",
      "execution_count": null,
      "metadata": {
        "id": "d8f20089-ae42-4a3b-be56-d040ad68ad6d",
        "outputId": "62e4f458-6b60-4c34-a14a-982b93cb13aa",
        "colab": {
          "base_uri": "https://localhost:8080/"
        }
      },
      "outputs": [
        {
          "output_type": "execute_result",
          "data": {
            "text/plain": [
              "array([[4, 4, 1],\n",
              "       [1, 4, 4],\n",
              "       [4, 1, 1]])"
            ]
          },
          "metadata": {},
          "execution_count": 119
        }
      ],
      "source": [
        "arr1**2"
      ]
    },
    {
      "cell_type": "code",
      "execution_count": null,
      "metadata": {
        "id": "5b535a52-008f-4f43-9682-5607b9380262"
      },
      "outputs": [],
      "source": [
        "#Numpy – Broadcasting."
      ]
    },
    {
      "cell_type": "code",
      "execution_count": null,
      "metadata": {
        "id": "578eed9d-f5fb-4484-8fd3-3496760bbf7e"
      },
      "outputs": [],
      "source": [
        "arr =np.zeros((4,4))"
      ]
    },
    {
      "cell_type": "code",
      "execution_count": null,
      "metadata": {
        "id": "74344e7d-dee9-4bb0-a32e-be2d3a87275f",
        "outputId": "799e6e88-e433-47c1-dc46-5212d49e6aef",
        "colab": {
          "base_uri": "https://localhost:8080/"
        }
      },
      "outputs": [
        {
          "output_type": "execute_result",
          "data": {
            "text/plain": [
              "array([[0., 0., 0., 0.],\n",
              "       [0., 0., 0., 0.],\n",
              "       [0., 0., 0., 0.],\n",
              "       [0., 0., 0., 0.]])"
            ]
          },
          "metadata": {},
          "execution_count": 122
        }
      ],
      "source": [
        "arr"
      ]
    },
    {
      "cell_type": "code",
      "execution_count": null,
      "metadata": {
        "id": "04141898-8d4c-4762-8db5-be03144c425b"
      },
      "outputs": [],
      "source": [
        "row = np.array([1,2,3,4])"
      ]
    },
    {
      "cell_type": "code",
      "execution_count": null,
      "metadata": {
        "id": "79f7cd0d-f475-4b00-9b66-453961437308",
        "outputId": "26e52413-cab5-42f2-d42c-3a6be47cd044",
        "colab": {
          "base_uri": "https://localhost:8080/"
        }
      },
      "outputs": [
        {
          "output_type": "execute_result",
          "data": {
            "text/plain": [
              "(4,)"
            ]
          },
          "metadata": {},
          "execution_count": 124
        }
      ],
      "source": [
        "row.shape"
      ]
    },
    {
      "cell_type": "code",
      "execution_count": null,
      "metadata": {
        "id": "d13ca14f-64e6-46b3-9561-9cbf0c1ec17b",
        "outputId": "a8bdf960-bf66-4ac5-9091-eaad5968f8f1",
        "colab": {
          "base_uri": "https://localhost:8080/"
        }
      },
      "outputs": [
        {
          "output_type": "execute_result",
          "data": {
            "text/plain": [
              "array([[1., 2., 3., 4.],\n",
              "       [1., 2., 3., 4.],\n",
              "       [1., 2., 3., 4.],\n",
              "       [1., 2., 3., 4.]])"
            ]
          },
          "metadata": {},
          "execution_count": 125
        }
      ],
      "source": [
        "arr + row # row Broadcasting # rowwise addition"
      ]
    },
    {
      "cell_type": "code",
      "execution_count": null,
      "metadata": {
        "id": "0c4b72e2-64c8-4659-a65a-34544818e145",
        "outputId": "70b8d7bd-652e-44bb-ab09-bcc8bbfe5715",
        "colab": {
          "base_uri": "https://localhost:8080/"
        }
      },
      "outputs": [
        {
          "output_type": "execute_result",
          "data": {
            "text/plain": [
              "array([1, 2, 3, 4])"
            ]
          },
          "metadata": {},
          "execution_count": 126
        }
      ],
      "source": [
        "row.T"
      ]
    },
    {
      "cell_type": "code",
      "execution_count": null,
      "metadata": {
        "id": "2426c44c-356f-469e-bffc-228861927a38"
      },
      "outputs": [],
      "source": [
        "col = np.array([[1,2,3,4]])"
      ]
    },
    {
      "cell_type": "code",
      "execution_count": null,
      "metadata": {
        "id": "9a5521e6-8934-48f9-b1ac-c46a95785b6d",
        "outputId": "dcf0507e-8fdc-48c2-f5d8-7c8230e7ccba",
        "colab": {
          "base_uri": "https://localhost:8080/"
        }
      },
      "outputs": [
        {
          "output_type": "execute_result",
          "data": {
            "text/plain": [
              "array([[1., 1., 1., 1.],\n",
              "       [2., 2., 2., 2.],\n",
              "       [3., 3., 3., 3.],\n",
              "       [4., 4., 4., 4.]])"
            ]
          },
          "metadata": {},
          "execution_count": 128
        }
      ],
      "source": [
        "col.T + arr"
      ]
    },
    {
      "cell_type": "code",
      "execution_count": null,
      "metadata": {
        "id": "cda4baa8-72fc-4bb4-9294-eb48cb58c4ba",
        "outputId": "3b9e20bf-00fd-44e3-b33a-2bc228da57cb",
        "colab": {
          "base_uri": "https://localhost:8080/"
        }
      },
      "outputs": [
        {
          "output_type": "execute_result",
          "data": {
            "text/plain": [
              "array([[1, 2, 3, 4]])"
            ]
          },
          "metadata": {},
          "execution_count": 129
        }
      ],
      "source": [
        "col"
      ]
    },
    {
      "cell_type": "code",
      "execution_count": null,
      "metadata": {
        "id": "91b60593-5434-4928-a375-72f5eb65a639",
        "outputId": "a25458e5-3de6-444f-95dd-af9b118822fa",
        "colab": {
          "base_uri": "https://localhost:8080/"
        }
      },
      "outputs": [
        {
          "output_type": "execute_result",
          "data": {
            "text/plain": [
              "array([[0., 0., 0., 0.],\n",
              "       [0., 0., 0., 0.],\n",
              "       [0., 0., 0., 0.],\n",
              "       [0., 0., 0., 0.]])"
            ]
          },
          "metadata": {},
          "execution_count": 130
        }
      ],
      "source": [
        "arr"
      ]
    },
    {
      "cell_type": "code",
      "execution_count": null,
      "metadata": {
        "id": "e68aec4e-63a2-46fa-b9e8-912183489fc7"
      },
      "outputs": [],
      "source": [
        "arr1 = np.random.randint(1,4 , (3,4))"
      ]
    },
    {
      "cell_type": "code",
      "execution_count": null,
      "metadata": {
        "id": "8d628304-70c6-4034-bc1c-c64130b9eae6",
        "outputId": "5daf8805-ce86-4aa0-a853-f8f56fa6db73",
        "colab": {
          "base_uri": "https://localhost:8080/"
        }
      },
      "outputs": [
        {
          "output_type": "execute_result",
          "data": {
            "text/plain": [
              "array([[3, 2, 1, 2],\n",
              "       [2, 2, 3, 2],\n",
              "       [3, 3, 3, 3]])"
            ]
          },
          "metadata": {},
          "execution_count": 132
        }
      ],
      "source": [
        "arr1"
      ]
    },
    {
      "cell_type": "code",
      "execution_count": null,
      "metadata": {
        "id": "0b3dc448-a57f-4e7d-8e8a-e6318a6330d3",
        "outputId": "6e549036-7c5d-4ca7-cfe4-a9214174b53d",
        "colab": {
          "base_uri": "https://localhost:8080/"
        }
      },
      "outputs": [
        {
          "output_type": "execute_result",
          "data": {
            "text/plain": [
              "array([[1.73205081, 1.41421356, 1.        , 1.41421356],\n",
              "       [1.41421356, 1.41421356, 1.73205081, 1.41421356],\n",
              "       [1.73205081, 1.73205081, 1.73205081, 1.73205081]])"
            ]
          },
          "metadata": {},
          "execution_count": 133
        }
      ],
      "source": [
        "np.sqrt(arr1)"
      ]
    },
    {
      "cell_type": "code",
      "execution_count": null,
      "metadata": {
        "id": "67746c9a-49b1-4446-94e2-0f1c7de8a9fa",
        "outputId": "c075d35c-7058-41bf-cb3a-b3b77b661036",
        "colab": {
          "base_uri": "https://localhost:8080/"
        }
      },
      "outputs": [
        {
          "output_type": "execute_result",
          "data": {
            "text/plain": [
              "array([[20.08553692,  7.3890561 ,  2.71828183,  7.3890561 ],\n",
              "       [ 7.3890561 ,  7.3890561 , 20.08553692,  7.3890561 ],\n",
              "       [20.08553692, 20.08553692, 20.08553692, 20.08553692]])"
            ]
          },
          "metadata": {},
          "execution_count": 134
        }
      ],
      "source": [
        "np.exp(arr1)"
      ]
    },
    {
      "cell_type": "code",
      "execution_count": null,
      "metadata": {
        "id": "e7023b99-dd77-45ba-b34b-39a0676d7086",
        "outputId": "39f9c438-afda-4bb3-db13-a399f69d50db",
        "colab": {
          "base_uri": "https://localhost:8080/"
        }
      },
      "outputs": [
        {
          "output_type": "execute_result",
          "data": {
            "text/plain": [
              "array([[0.47712125, 0.30103   , 0.        , 0.30103   ],\n",
              "       [0.30103   , 0.30103   , 0.47712125, 0.30103   ],\n",
              "       [0.47712125, 0.47712125, 0.47712125, 0.47712125]])"
            ]
          },
          "metadata": {},
          "execution_count": 135
        }
      ],
      "source": [
        "np.log10(arr1)"
      ]
    },
    {
      "cell_type": "code",
      "execution_count": null,
      "metadata": {
        "id": "0be11bba-e2f5-470a-b262-91a2055d0096"
      },
      "outputs": [],
      "source": []
    }
  ]
}